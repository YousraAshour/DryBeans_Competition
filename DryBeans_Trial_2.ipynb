{
  "metadata": {
    "kernelspec": {
      "language": "python",
      "display_name": "Python 3",
      "name": "python3"
    },
    "language_info": {
      "name": "python",
      "version": "3.7.12",
      "mimetype": "text/x-python",
      "codemirror_mode": {
        "name": "ipython",
        "version": 3
      },
      "pygments_lexer": "ipython3",
      "nbconvert_exporter": "python",
      "file_extension": ".py"
    },
    "colab": {
      "name": "DryBeans Trial 2.ipynb",
      "provenance": [],
      "collapsed_sections": [],
      "include_colab_link": true
    }
  },
  "nbformat_minor": 0,
  "nbformat": 4,
  "cells": [
    {
      "cell_type": "markdown",
      "metadata": {
        "id": "view-in-github",
        "colab_type": "text"
      },
      "source": [
        "<a href=\"https://colab.research.google.com/github/YousraAshour/DryBeans_Competition/blob/main/DryBeans_Trial_2.ipynb\" target=\"_parent\"><img src=\"https://colab.research.google.com/assets/colab-badge.svg\" alt=\"Open In Colab\"/></a>"
      ]
    },
    {
      "cell_type": "code",
      "source": [
        "# This Python 3 environment comes with many helpful analytics libraries installed\n",
        "# It is defined by the kaggle/python Docker image: https://github.com/kaggle/docker-python\n",
        "# For example, here's several helpful packages to load\n",
        "!pip install tensorflow\n",
        "import numpy as np # linear algebra\n",
        "import pandas as pd # data processing, CSV file I/O (e.g. pd.read_csv)\n",
        "\n",
        "# Input data files are available in the read-only \"../input/\" directory\n",
        "# For example, running this (by clicking run or pressing Shift+Enter) will list all files under the input directory\n",
        "\n",
        "# import os\n",
        "# for dirname, _, filenames in os.walk('/kaggle/input'):\n",
        "#     for filename in filenames:\n",
        "#         print(os.path.join(dirname, filename))\n",
        "\n",
        "# You can write up to 20GB to the current directory (/kaggle/working/) that gets preserved as output when you create a version using \"Save & Run All\" \n",
        "# You can also write temporary files to /kaggle/temp/, but they won't be saved outside of the current session\n",
        "\n",
        "from sklearn.decomposition import PCA\n",
        "from tensorflow.keras.layers import Dense\n",
        "from tensorflow.keras.models import Sequential\n",
        "from tensorflow.keras import optimizers\n",
        "from tensorflow.keras.utils import to_categorical\n",
        "from tensorflow.keras.callbacks import EarlyStopping\n",
        "from tensorflow.keras import regularizers\n",
        "from tensorflow.keras.layers import Dropout"
      ],
      "metadata": {
        "_uuid": "8f2839f25d086af736a60e9eeb907d3b93b6e0e5",
        "_cell_guid": "b1076dfc-b9ad-4769-8c92-a6c4dae69d19",
        "execution": {
          "iopub.status.busy": "2022-05-17T14:58:25.525659Z",
          "iopub.execute_input": "2022-05-17T14:58:25.526347Z",
          "iopub.status.idle": "2022-05-17T14:58:25.558829Z",
          "shell.execute_reply.started": "2022-05-17T14:58:25.526217Z",
          "shell.execute_reply": "2022-05-17T14:58:25.557909Z"
        },
        "trusted": true,
        "id": "3-Ae0Snd3cK7",
        "colab": {
          "base_uri": "https://localhost:8080/"
        },
        "outputId": "8647ef39-fb19-43a6-a10b-4857b6055e9f"
      },
      "execution_count": 24,
      "outputs": [
        {
          "output_type": "stream",
          "name": "stdout",
          "text": [
            "Looking in indexes: https://pypi.org/simple, https://us-python.pkg.dev/colab-wheels/public/simple/\n",
            "Requirement already satisfied: tensorflow in /usr/local/lib/python3.7/dist-packages (2.8.0+zzzcolab20220506162203)\n",
            "Requirement already satisfied: wrapt>=1.11.0 in /usr/local/lib/python3.7/dist-packages (from tensorflow) (1.14.1)\n",
            "Requirement already satisfied: tensorboard<2.9,>=2.8 in /usr/local/lib/python3.7/dist-packages (from tensorflow) (2.8.0)\n",
            "Requirement already satisfied: google-pasta>=0.1.1 in /usr/local/lib/python3.7/dist-packages (from tensorflow) (0.2.0)\n",
            "Requirement already satisfied: numpy>=1.20 in /usr/local/lib/python3.7/dist-packages (from tensorflow) (1.21.6)\n",
            "Requirement already satisfied: astunparse>=1.6.0 in /usr/local/lib/python3.7/dist-packages (from tensorflow) (1.6.3)\n",
            "Requirement already satisfied: keras<2.9,>=2.8.0rc0 in /usr/local/lib/python3.7/dist-packages (from tensorflow) (2.8.0)\n",
            "Requirement already satisfied: grpcio<2.0,>=1.24.3 in /usr/local/lib/python3.7/dist-packages (from tensorflow) (1.46.1)\n",
            "Requirement already satisfied: protobuf>=3.9.2 in /usr/local/lib/python3.7/dist-packages (from tensorflow) (3.17.3)\n",
            "Requirement already satisfied: termcolor>=1.1.0 in /usr/local/lib/python3.7/dist-packages (from tensorflow) (1.1.0)\n",
            "Requirement already satisfied: keras-preprocessing>=1.1.1 in /usr/local/lib/python3.7/dist-packages (from tensorflow) (1.1.2)\n",
            "Requirement already satisfied: flatbuffers>=1.12 in /usr/local/lib/python3.7/dist-packages (from tensorflow) (2.0)\n",
            "Requirement already satisfied: h5py>=2.9.0 in /usr/local/lib/python3.7/dist-packages (from tensorflow) (3.1.0)\n",
            "Requirement already satisfied: absl-py>=0.4.0 in /usr/local/lib/python3.7/dist-packages (from tensorflow) (1.0.0)\n",
            "Requirement already satisfied: opt-einsum>=2.3.2 in /usr/local/lib/python3.7/dist-packages (from tensorflow) (3.3.0)\n",
            "Requirement already satisfied: tensorflow-io-gcs-filesystem>=0.23.1 in /usr/local/lib/python3.7/dist-packages (from tensorflow) (0.26.0)\n",
            "Requirement already satisfied: setuptools in /usr/local/lib/python3.7/dist-packages (from tensorflow) (57.4.0)\n",
            "Requirement already satisfied: six>=1.12.0 in /usr/local/lib/python3.7/dist-packages (from tensorflow) (1.15.0)\n",
            "Requirement already satisfied: libclang>=9.0.1 in /usr/local/lib/python3.7/dist-packages (from tensorflow) (14.0.1)\n",
            "Collecting tf-estimator-nightly==2.8.0.dev2021122109\n",
            "  Downloading tf_estimator_nightly-2.8.0.dev2021122109-py2.py3-none-any.whl (462 kB)\n",
            "\u001b[K     |████████████████████████████████| 462 kB 7.9 MB/s \n",
            "\u001b[?25hRequirement already satisfied: gast>=0.2.1 in /usr/local/lib/python3.7/dist-packages (from tensorflow) (0.5.3)\n",
            "Requirement already satisfied: typing-extensions>=3.6.6 in /usr/local/lib/python3.7/dist-packages (from tensorflow) (4.2.0)\n",
            "Requirement already satisfied: wheel<1.0,>=0.23.0 in /usr/local/lib/python3.7/dist-packages (from astunparse>=1.6.0->tensorflow) (0.37.1)\n",
            "Requirement already satisfied: cached-property in /usr/local/lib/python3.7/dist-packages (from h5py>=2.9.0->tensorflow) (1.5.2)\n",
            "Requirement already satisfied: requests<3,>=2.21.0 in /usr/local/lib/python3.7/dist-packages (from tensorboard<2.9,>=2.8->tensorflow) (2.23.0)\n",
            "Requirement already satisfied: werkzeug>=0.11.15 in /usr/local/lib/python3.7/dist-packages (from tensorboard<2.9,>=2.8->tensorflow) (1.0.1)\n",
            "Requirement already satisfied: google-auth<3,>=1.6.3 in /usr/local/lib/python3.7/dist-packages (from tensorboard<2.9,>=2.8->tensorflow) (1.35.0)\n",
            "Requirement already satisfied: tensorboard-data-server<0.7.0,>=0.6.0 in /usr/local/lib/python3.7/dist-packages (from tensorboard<2.9,>=2.8->tensorflow) (0.6.1)\n",
            "Requirement already satisfied: google-auth-oauthlib<0.5,>=0.4.1 in /usr/local/lib/python3.7/dist-packages (from tensorboard<2.9,>=2.8->tensorflow) (0.4.6)\n",
            "Requirement already satisfied: markdown>=2.6.8 in /usr/local/lib/python3.7/dist-packages (from tensorboard<2.9,>=2.8->tensorflow) (3.3.7)\n",
            "Requirement already satisfied: tensorboard-plugin-wit>=1.6.0 in /usr/local/lib/python3.7/dist-packages (from tensorboard<2.9,>=2.8->tensorflow) (1.8.1)\n",
            "Requirement already satisfied: rsa<5,>=3.1.4 in /usr/local/lib/python3.7/dist-packages (from google-auth<3,>=1.6.3->tensorboard<2.9,>=2.8->tensorflow) (4.8)\n",
            "Requirement already satisfied: pyasn1-modules>=0.2.1 in /usr/local/lib/python3.7/dist-packages (from google-auth<3,>=1.6.3->tensorboard<2.9,>=2.8->tensorflow) (0.2.8)\n",
            "Requirement already satisfied: cachetools<5.0,>=2.0.0 in /usr/local/lib/python3.7/dist-packages (from google-auth<3,>=1.6.3->tensorboard<2.9,>=2.8->tensorflow) (4.2.4)\n",
            "Requirement already satisfied: requests-oauthlib>=0.7.0 in /usr/local/lib/python3.7/dist-packages (from google-auth-oauthlib<0.5,>=0.4.1->tensorboard<2.9,>=2.8->tensorflow) (1.3.1)\n",
            "Requirement already satisfied: importlib-metadata>=4.4 in /usr/local/lib/python3.7/dist-packages (from markdown>=2.6.8->tensorboard<2.9,>=2.8->tensorflow) (4.11.3)\n",
            "Requirement already satisfied: zipp>=0.5 in /usr/local/lib/python3.7/dist-packages (from importlib-metadata>=4.4->markdown>=2.6.8->tensorboard<2.9,>=2.8->tensorflow) (3.8.0)\n",
            "Requirement already satisfied: pyasn1<0.5.0,>=0.4.6 in /usr/local/lib/python3.7/dist-packages (from pyasn1-modules>=0.2.1->google-auth<3,>=1.6.3->tensorboard<2.9,>=2.8->tensorflow) (0.4.8)\n",
            "Requirement already satisfied: idna<3,>=2.5 in /usr/local/lib/python3.7/dist-packages (from requests<3,>=2.21.0->tensorboard<2.9,>=2.8->tensorflow) (2.10)\n",
            "Requirement already satisfied: certifi>=2017.4.17 in /usr/local/lib/python3.7/dist-packages (from requests<3,>=2.21.0->tensorboard<2.9,>=2.8->tensorflow) (2022.5.18.1)\n",
            "Requirement already satisfied: chardet<4,>=3.0.2 in /usr/local/lib/python3.7/dist-packages (from requests<3,>=2.21.0->tensorboard<2.9,>=2.8->tensorflow) (3.0.4)\n",
            "Requirement already satisfied: urllib3!=1.25.0,!=1.25.1,<1.26,>=1.21.1 in /usr/local/lib/python3.7/dist-packages (from requests<3,>=2.21.0->tensorboard<2.9,>=2.8->tensorflow) (1.24.3)\n",
            "Requirement already satisfied: oauthlib>=3.0.0 in /usr/local/lib/python3.7/dist-packages (from requests-oauthlib>=0.7.0->google-auth-oauthlib<0.5,>=0.4.1->tensorboard<2.9,>=2.8->tensorflow) (3.2.0)\n",
            "Installing collected packages: tf-estimator-nightly\n",
            "Successfully installed tf-estimator-nightly-2.8.0.dev2021122109\n"
          ]
        }
      ]
    },
    {
      "cell_type": "code",
      "source": [
        "Data=pd.read_csv('/content/train.csv')"
      ],
      "metadata": {
        "execution": {
          "iopub.status.busy": "2022-05-17T16:12:33.123055Z",
          "iopub.execute_input": "2022-05-17T16:12:33.124088Z",
          "iopub.status.idle": "2022-05-17T16:12:33.185389Z",
          "shell.execute_reply.started": "2022-05-17T16:12:33.124038Z",
          "shell.execute_reply": "2022-05-17T16:12:33.184266Z"
        },
        "trusted": true,
        "id": "ovZcjM433cLC"
      },
      "execution_count": 25,
      "outputs": []
    },
    {
      "cell_type": "code",
      "source": [
        "Data"
      ],
      "metadata": {
        "execution": {
          "iopub.status.busy": "2022-05-17T16:14:19.415757Z",
          "iopub.execute_input": "2022-05-17T16:14:19.416282Z",
          "iopub.status.idle": "2022-05-17T16:14:19.449434Z",
          "shell.execute_reply.started": "2022-05-17T16:14:19.416248Z",
          "shell.execute_reply": "2022-05-17T16:14:19.448665Z"
        },
        "trusted": true,
        "colab": {
          "base_uri": "https://localhost:8080/",
          "height": 487
        },
        "id": "AnPKLyLC3cLE",
        "outputId": "0f1acff1-ed30-47a6-8af2-9354228a0b94"
      },
      "execution_count": 26,
      "outputs": [
        {
          "output_type": "execute_result",
          "data": {
            "text/plain": [
              "          ID   Area  Perimeter  MajorAxisLength  MinorAxisLength  \\\n",
              "0          0  58238    971.303       397.202654       186.945510   \n",
              "1          1  44515    757.601       265.590470       213.967453   \n",
              "2          2  31662    653.783       239.902428       168.421505   \n",
              "3          3  38778    734.020       268.446281       184.061923   \n",
              "4          4  42530    775.403       281.212824       193.236878   \n",
              "...      ...    ...        ...              ...              ...   \n",
              "10829  10829  37777    716.007       250.174662       192.704033   \n",
              "10830  10830  32187    667.621       247.778775       165.786862   \n",
              "10831  10831  81837   1095.937       433.838186       241.527026   \n",
              "10832  10832  48212    826.362       309.639462       199.285811   \n",
              "10833  10833  28026    610.943       215.446569       165.740377   \n",
              "\n",
              "       AspectRation  Eccentricity  ConvexArea  EquivDiameter    Extent  \\\n",
              "0          2.124697      0.882317       58977     272.306674  0.604756   \n",
              "1          1.241266      0.592420       44780     238.071960  0.771745   \n",
              "2          1.424417      0.712136       32034     200.781748  0.801407   \n",
              "3          1.458456      0.727925       39208     222.201897  0.766137   \n",
              "4          1.455275      0.726511       43028     232.703412  0.729816   \n",
              "...             ...           ...         ...            ...       ...   \n",
              "10829      1.298233      0.637708       38174     219.315230  0.770519   \n",
              "10830      1.494562      0.743179       32582     202.439525  0.731805   \n",
              "10831      1.796230      0.830699       82554     322.797312  0.771996   \n",
              "10832      1.553746      0.765357       48777     247.760822  0.677002   \n",
              "10833      1.299904      0.638903       28302     188.901592  0.776688   \n",
              "\n",
              "       Solidity  roundness  Compactness  ShapeFactor1  ShapeFactor2  \\\n",
              "0      0.987470   0.775723     0.685561      0.006820      0.000929   \n",
              "1      0.994082   0.974620     0.896387      0.005966      0.002376   \n",
              "2      0.988387   0.930853     0.836931      0.007577      0.002293   \n",
              "3      0.989033   0.904439     0.827733      0.006923      0.002005   \n",
              "4      0.988426   0.888895     0.827499      0.006612      0.001912   \n",
              "...         ...        ...          ...           ...           ...   \n",
              "10829  0.989600   0.925983     0.876648      0.006622      0.002413   \n",
              "10830  0.987877   0.907466     0.817017      0.007698      0.002116   \n",
              "10831  0.991315   0.856226     0.744050      0.005301      0.001002   \n",
              "10832  0.988417   0.887206     0.800159      0.006422      0.001624   \n",
              "10833  0.990248   0.943560     0.876791      0.007687      0.002802   \n",
              "\n",
              "       ShapeFactor3  ShapeFactor4         y  \n",
              "0          0.469994      0.998595     HOROZ  \n",
              "1          0.803510      0.997370     SEKER  \n",
              "2          0.700453      0.997737  DERMASON  \n",
              "3          0.685142      0.999250  DERMASON  \n",
              "4          0.684755      0.996507      SIRA  \n",
              "...             ...           ...       ...  \n",
              "10829      0.768513      0.997708     SEKER  \n",
              "10830      0.667517      0.997646  DERMASON  \n",
              "10831      0.553610      0.994412      CALI  \n",
              "10832      0.640255      0.994793      SIRA  \n",
              "10833      0.768762      0.999317  DERMASON  \n",
              "\n",
              "[10834 rows x 18 columns]"
            ],
            "text/html": [
              "\n",
              "  <div id=\"df-18551074-91e9-4fbd-a386-baf0821a6893\">\n",
              "    <div class=\"colab-df-container\">\n",
              "      <div>\n",
              "<style scoped>\n",
              "    .dataframe tbody tr th:only-of-type {\n",
              "        vertical-align: middle;\n",
              "    }\n",
              "\n",
              "    .dataframe tbody tr th {\n",
              "        vertical-align: top;\n",
              "    }\n",
              "\n",
              "    .dataframe thead th {\n",
              "        text-align: right;\n",
              "    }\n",
              "</style>\n",
              "<table border=\"1\" class=\"dataframe\">\n",
              "  <thead>\n",
              "    <tr style=\"text-align: right;\">\n",
              "      <th></th>\n",
              "      <th>ID</th>\n",
              "      <th>Area</th>\n",
              "      <th>Perimeter</th>\n",
              "      <th>MajorAxisLength</th>\n",
              "      <th>MinorAxisLength</th>\n",
              "      <th>AspectRation</th>\n",
              "      <th>Eccentricity</th>\n",
              "      <th>ConvexArea</th>\n",
              "      <th>EquivDiameter</th>\n",
              "      <th>Extent</th>\n",
              "      <th>Solidity</th>\n",
              "      <th>roundness</th>\n",
              "      <th>Compactness</th>\n",
              "      <th>ShapeFactor1</th>\n",
              "      <th>ShapeFactor2</th>\n",
              "      <th>ShapeFactor3</th>\n",
              "      <th>ShapeFactor4</th>\n",
              "      <th>y</th>\n",
              "    </tr>\n",
              "  </thead>\n",
              "  <tbody>\n",
              "    <tr>\n",
              "      <th>0</th>\n",
              "      <td>0</td>\n",
              "      <td>58238</td>\n",
              "      <td>971.303</td>\n",
              "      <td>397.202654</td>\n",
              "      <td>186.945510</td>\n",
              "      <td>2.124697</td>\n",
              "      <td>0.882317</td>\n",
              "      <td>58977</td>\n",
              "      <td>272.306674</td>\n",
              "      <td>0.604756</td>\n",
              "      <td>0.987470</td>\n",
              "      <td>0.775723</td>\n",
              "      <td>0.685561</td>\n",
              "      <td>0.006820</td>\n",
              "      <td>0.000929</td>\n",
              "      <td>0.469994</td>\n",
              "      <td>0.998595</td>\n",
              "      <td>HOROZ</td>\n",
              "    </tr>\n",
              "    <tr>\n",
              "      <th>1</th>\n",
              "      <td>1</td>\n",
              "      <td>44515</td>\n",
              "      <td>757.601</td>\n",
              "      <td>265.590470</td>\n",
              "      <td>213.967453</td>\n",
              "      <td>1.241266</td>\n",
              "      <td>0.592420</td>\n",
              "      <td>44780</td>\n",
              "      <td>238.071960</td>\n",
              "      <td>0.771745</td>\n",
              "      <td>0.994082</td>\n",
              "      <td>0.974620</td>\n",
              "      <td>0.896387</td>\n",
              "      <td>0.005966</td>\n",
              "      <td>0.002376</td>\n",
              "      <td>0.803510</td>\n",
              "      <td>0.997370</td>\n",
              "      <td>SEKER</td>\n",
              "    </tr>\n",
              "    <tr>\n",
              "      <th>2</th>\n",
              "      <td>2</td>\n",
              "      <td>31662</td>\n",
              "      <td>653.783</td>\n",
              "      <td>239.902428</td>\n",
              "      <td>168.421505</td>\n",
              "      <td>1.424417</td>\n",
              "      <td>0.712136</td>\n",
              "      <td>32034</td>\n",
              "      <td>200.781748</td>\n",
              "      <td>0.801407</td>\n",
              "      <td>0.988387</td>\n",
              "      <td>0.930853</td>\n",
              "      <td>0.836931</td>\n",
              "      <td>0.007577</td>\n",
              "      <td>0.002293</td>\n",
              "      <td>0.700453</td>\n",
              "      <td>0.997737</td>\n",
              "      <td>DERMASON</td>\n",
              "    </tr>\n",
              "    <tr>\n",
              "      <th>3</th>\n",
              "      <td>3</td>\n",
              "      <td>38778</td>\n",
              "      <td>734.020</td>\n",
              "      <td>268.446281</td>\n",
              "      <td>184.061923</td>\n",
              "      <td>1.458456</td>\n",
              "      <td>0.727925</td>\n",
              "      <td>39208</td>\n",
              "      <td>222.201897</td>\n",
              "      <td>0.766137</td>\n",
              "      <td>0.989033</td>\n",
              "      <td>0.904439</td>\n",
              "      <td>0.827733</td>\n",
              "      <td>0.006923</td>\n",
              "      <td>0.002005</td>\n",
              "      <td>0.685142</td>\n",
              "      <td>0.999250</td>\n",
              "      <td>DERMASON</td>\n",
              "    </tr>\n",
              "    <tr>\n",
              "      <th>4</th>\n",
              "      <td>4</td>\n",
              "      <td>42530</td>\n",
              "      <td>775.403</td>\n",
              "      <td>281.212824</td>\n",
              "      <td>193.236878</td>\n",
              "      <td>1.455275</td>\n",
              "      <td>0.726511</td>\n",
              "      <td>43028</td>\n",
              "      <td>232.703412</td>\n",
              "      <td>0.729816</td>\n",
              "      <td>0.988426</td>\n",
              "      <td>0.888895</td>\n",
              "      <td>0.827499</td>\n",
              "      <td>0.006612</td>\n",
              "      <td>0.001912</td>\n",
              "      <td>0.684755</td>\n",
              "      <td>0.996507</td>\n",
              "      <td>SIRA</td>\n",
              "    </tr>\n",
              "    <tr>\n",
              "      <th>...</th>\n",
              "      <td>...</td>\n",
              "      <td>...</td>\n",
              "      <td>...</td>\n",
              "      <td>...</td>\n",
              "      <td>...</td>\n",
              "      <td>...</td>\n",
              "      <td>...</td>\n",
              "      <td>...</td>\n",
              "      <td>...</td>\n",
              "      <td>...</td>\n",
              "      <td>...</td>\n",
              "      <td>...</td>\n",
              "      <td>...</td>\n",
              "      <td>...</td>\n",
              "      <td>...</td>\n",
              "      <td>...</td>\n",
              "      <td>...</td>\n",
              "      <td>...</td>\n",
              "    </tr>\n",
              "    <tr>\n",
              "      <th>10829</th>\n",
              "      <td>10829</td>\n",
              "      <td>37777</td>\n",
              "      <td>716.007</td>\n",
              "      <td>250.174662</td>\n",
              "      <td>192.704033</td>\n",
              "      <td>1.298233</td>\n",
              "      <td>0.637708</td>\n",
              "      <td>38174</td>\n",
              "      <td>219.315230</td>\n",
              "      <td>0.770519</td>\n",
              "      <td>0.989600</td>\n",
              "      <td>0.925983</td>\n",
              "      <td>0.876648</td>\n",
              "      <td>0.006622</td>\n",
              "      <td>0.002413</td>\n",
              "      <td>0.768513</td>\n",
              "      <td>0.997708</td>\n",
              "      <td>SEKER</td>\n",
              "    </tr>\n",
              "    <tr>\n",
              "      <th>10830</th>\n",
              "      <td>10830</td>\n",
              "      <td>32187</td>\n",
              "      <td>667.621</td>\n",
              "      <td>247.778775</td>\n",
              "      <td>165.786862</td>\n",
              "      <td>1.494562</td>\n",
              "      <td>0.743179</td>\n",
              "      <td>32582</td>\n",
              "      <td>202.439525</td>\n",
              "      <td>0.731805</td>\n",
              "      <td>0.987877</td>\n",
              "      <td>0.907466</td>\n",
              "      <td>0.817017</td>\n",
              "      <td>0.007698</td>\n",
              "      <td>0.002116</td>\n",
              "      <td>0.667517</td>\n",
              "      <td>0.997646</td>\n",
              "      <td>DERMASON</td>\n",
              "    </tr>\n",
              "    <tr>\n",
              "      <th>10831</th>\n",
              "      <td>10831</td>\n",
              "      <td>81837</td>\n",
              "      <td>1095.937</td>\n",
              "      <td>433.838186</td>\n",
              "      <td>241.527026</td>\n",
              "      <td>1.796230</td>\n",
              "      <td>0.830699</td>\n",
              "      <td>82554</td>\n",
              "      <td>322.797312</td>\n",
              "      <td>0.771996</td>\n",
              "      <td>0.991315</td>\n",
              "      <td>0.856226</td>\n",
              "      <td>0.744050</td>\n",
              "      <td>0.005301</td>\n",
              "      <td>0.001002</td>\n",
              "      <td>0.553610</td>\n",
              "      <td>0.994412</td>\n",
              "      <td>CALI</td>\n",
              "    </tr>\n",
              "    <tr>\n",
              "      <th>10832</th>\n",
              "      <td>10832</td>\n",
              "      <td>48212</td>\n",
              "      <td>826.362</td>\n",
              "      <td>309.639462</td>\n",
              "      <td>199.285811</td>\n",
              "      <td>1.553746</td>\n",
              "      <td>0.765357</td>\n",
              "      <td>48777</td>\n",
              "      <td>247.760822</td>\n",
              "      <td>0.677002</td>\n",
              "      <td>0.988417</td>\n",
              "      <td>0.887206</td>\n",
              "      <td>0.800159</td>\n",
              "      <td>0.006422</td>\n",
              "      <td>0.001624</td>\n",
              "      <td>0.640255</td>\n",
              "      <td>0.994793</td>\n",
              "      <td>SIRA</td>\n",
              "    </tr>\n",
              "    <tr>\n",
              "      <th>10833</th>\n",
              "      <td>10833</td>\n",
              "      <td>28026</td>\n",
              "      <td>610.943</td>\n",
              "      <td>215.446569</td>\n",
              "      <td>165.740377</td>\n",
              "      <td>1.299904</td>\n",
              "      <td>0.638903</td>\n",
              "      <td>28302</td>\n",
              "      <td>188.901592</td>\n",
              "      <td>0.776688</td>\n",
              "      <td>0.990248</td>\n",
              "      <td>0.943560</td>\n",
              "      <td>0.876791</td>\n",
              "      <td>0.007687</td>\n",
              "      <td>0.002802</td>\n",
              "      <td>0.768762</td>\n",
              "      <td>0.999317</td>\n",
              "      <td>DERMASON</td>\n",
              "    </tr>\n",
              "  </tbody>\n",
              "</table>\n",
              "<p>10834 rows × 18 columns</p>\n",
              "</div>\n",
              "      <button class=\"colab-df-convert\" onclick=\"convertToInteractive('df-18551074-91e9-4fbd-a386-baf0821a6893')\"\n",
              "              title=\"Convert this dataframe to an interactive table.\"\n",
              "              style=\"display:none;\">\n",
              "        \n",
              "  <svg xmlns=\"http://www.w3.org/2000/svg\" height=\"24px\"viewBox=\"0 0 24 24\"\n",
              "       width=\"24px\">\n",
              "    <path d=\"M0 0h24v24H0V0z\" fill=\"none\"/>\n",
              "    <path d=\"M18.56 5.44l.94 2.06.94-2.06 2.06-.94-2.06-.94-.94-2.06-.94 2.06-2.06.94zm-11 1L8.5 8.5l.94-2.06 2.06-.94-2.06-.94L8.5 2.5l-.94 2.06-2.06.94zm10 10l.94 2.06.94-2.06 2.06-.94-2.06-.94-.94-2.06-.94 2.06-2.06.94z\"/><path d=\"M17.41 7.96l-1.37-1.37c-.4-.4-.92-.59-1.43-.59-.52 0-1.04.2-1.43.59L10.3 9.45l-7.72 7.72c-.78.78-.78 2.05 0 2.83L4 21.41c.39.39.9.59 1.41.59.51 0 1.02-.2 1.41-.59l7.78-7.78 2.81-2.81c.8-.78.8-2.07 0-2.86zM5.41 20L4 18.59l7.72-7.72 1.47 1.35L5.41 20z\"/>\n",
              "  </svg>\n",
              "      </button>\n",
              "      \n",
              "  <style>\n",
              "    .colab-df-container {\n",
              "      display:flex;\n",
              "      flex-wrap:wrap;\n",
              "      gap: 12px;\n",
              "    }\n",
              "\n",
              "    .colab-df-convert {\n",
              "      background-color: #E8F0FE;\n",
              "      border: none;\n",
              "      border-radius: 50%;\n",
              "      cursor: pointer;\n",
              "      display: none;\n",
              "      fill: #1967D2;\n",
              "      height: 32px;\n",
              "      padding: 0 0 0 0;\n",
              "      width: 32px;\n",
              "    }\n",
              "\n",
              "    .colab-df-convert:hover {\n",
              "      background-color: #E2EBFA;\n",
              "      box-shadow: 0px 1px 2px rgba(60, 64, 67, 0.3), 0px 1px 3px 1px rgba(60, 64, 67, 0.15);\n",
              "      fill: #174EA6;\n",
              "    }\n",
              "\n",
              "    [theme=dark] .colab-df-convert {\n",
              "      background-color: #3B4455;\n",
              "      fill: #D2E3FC;\n",
              "    }\n",
              "\n",
              "    [theme=dark] .colab-df-convert:hover {\n",
              "      background-color: #434B5C;\n",
              "      box-shadow: 0px 1px 3px 1px rgba(0, 0, 0, 0.15);\n",
              "      filter: drop-shadow(0px 1px 2px rgba(0, 0, 0, 0.3));\n",
              "      fill: #FFFFFF;\n",
              "    }\n",
              "  </style>\n",
              "\n",
              "      <script>\n",
              "        const buttonEl =\n",
              "          document.querySelector('#df-18551074-91e9-4fbd-a386-baf0821a6893 button.colab-df-convert');\n",
              "        buttonEl.style.display =\n",
              "          google.colab.kernel.accessAllowed ? 'block' : 'none';\n",
              "\n",
              "        async function convertToInteractive(key) {\n",
              "          const element = document.querySelector('#df-18551074-91e9-4fbd-a386-baf0821a6893');\n",
              "          const dataTable =\n",
              "            await google.colab.kernel.invokeFunction('convertToInteractive',\n",
              "                                                     [key], {});\n",
              "          if (!dataTable) return;\n",
              "\n",
              "          const docLinkHtml = 'Like what you see? Visit the ' +\n",
              "            '<a target=\"_blank\" href=https://colab.research.google.com/notebooks/data_table.ipynb>data table notebook</a>'\n",
              "            + ' to learn more about interactive tables.';\n",
              "          element.innerHTML = '';\n",
              "          dataTable['output_type'] = 'display_data';\n",
              "          await google.colab.output.renderOutput(dataTable, element);\n",
              "          const docLink = document.createElement('div');\n",
              "          docLink.innerHTML = docLinkHtml;\n",
              "          element.appendChild(docLink);\n",
              "        }\n",
              "      </script>\n",
              "    </div>\n",
              "  </div>\n",
              "  "
            ]
          },
          "metadata": {},
          "execution_count": 26
        }
      ]
    },
    {
      "cell_type": "code",
      "source": [
        "Labels=Data['y']"
      ],
      "metadata": {
        "id": "SZ7Qxcze5mkL"
      },
      "execution_count": 27,
      "outputs": []
    },
    {
      "cell_type": "code",
      "source": [
        "Labels"
      ],
      "metadata": {
        "colab": {
          "base_uri": "https://localhost:8080/"
        },
        "id": "MypEHRpq5rSn",
        "outputId": "2f282370-470b-4447-e72c-849f0ab65fe8"
      },
      "execution_count": 28,
      "outputs": [
        {
          "output_type": "execute_result",
          "data": {
            "text/plain": [
              "0           HOROZ\n",
              "1           SEKER\n",
              "2        DERMASON\n",
              "3        DERMASON\n",
              "4            SIRA\n",
              "           ...   \n",
              "10829       SEKER\n",
              "10830    DERMASON\n",
              "10831        CALI\n",
              "10832        SIRA\n",
              "10833    DERMASON\n",
              "Name: y, Length: 10834, dtype: object"
            ]
          },
          "metadata": {},
          "execution_count": 28
        }
      ]
    },
    {
      "cell_type": "code",
      "source": [
        "from sklearn.preprocessing import LabelEncoder\n"
      ],
      "metadata": {
        "id": "UPrstuOR7Ut0"
      },
      "execution_count": 29,
      "outputs": []
    },
    {
      "cell_type": "code",
      "source": [
        "le=LabelEncoder()\n",
        "Labels=le.fit_transform(Labels)"
      ],
      "metadata": {
        "id": "RwOli-Ie7iNS"
      },
      "execution_count": 30,
      "outputs": []
    },
    {
      "cell_type": "code",
      "source": [
        "Labels=Labels.reshape(-1,1)"
      ],
      "metadata": {
        "id": "bYHaC3jt7qjC"
      },
      "execution_count": 31,
      "outputs": []
    },
    {
      "cell_type": "code",
      "source": [
        "Data=Data.drop(['y','ID'],axis=1)"
      ],
      "metadata": {
        "execution": {
          "iopub.status.busy": "2022-05-17T16:17:27.044037Z",
          "iopub.execute_input": "2022-05-17T16:17:27.044947Z",
          "iopub.status.idle": "2022-05-17T16:17:27.051809Z",
          "shell.execute_reply.started": "2022-05-17T16:17:27.044894Z",
          "shell.execute_reply": "2022-05-17T16:17:27.050566Z"
        },
        "trusted": true,
        "id": "vwPVAFjo3cLF"
      },
      "execution_count": 32,
      "outputs": []
    },
    {
      "cell_type": "code",
      "source": [
        "Data"
      ],
      "metadata": {
        "execution": {
          "iopub.status.busy": "2022-05-17T16:17:29.467842Z",
          "iopub.execute_input": "2022-05-17T16:17:29.468125Z",
          "iopub.status.idle": "2022-05-17T16:17:29.499525Z",
          "shell.execute_reply.started": "2022-05-17T16:17:29.468093Z",
          "shell.execute_reply": "2022-05-17T16:17:29.498644Z"
        },
        "trusted": true,
        "colab": {
          "base_uri": "https://localhost:8080/",
          "height": 487
        },
        "id": "BL0adwj93cLG",
        "outputId": "28165304-5264-4df7-8f55-38283b224899"
      },
      "execution_count": 33,
      "outputs": [
        {
          "output_type": "execute_result",
          "data": {
            "text/plain": [
              "        Area  Perimeter  MajorAxisLength  MinorAxisLength  AspectRation  \\\n",
              "0      58238    971.303       397.202654       186.945510      2.124697   \n",
              "1      44515    757.601       265.590470       213.967453      1.241266   \n",
              "2      31662    653.783       239.902428       168.421505      1.424417   \n",
              "3      38778    734.020       268.446281       184.061923      1.458456   \n",
              "4      42530    775.403       281.212824       193.236878      1.455275   \n",
              "...      ...        ...              ...              ...           ...   \n",
              "10829  37777    716.007       250.174662       192.704033      1.298233   \n",
              "10830  32187    667.621       247.778775       165.786862      1.494562   \n",
              "10831  81837   1095.937       433.838186       241.527026      1.796230   \n",
              "10832  48212    826.362       309.639462       199.285811      1.553746   \n",
              "10833  28026    610.943       215.446569       165.740377      1.299904   \n",
              "\n",
              "       Eccentricity  ConvexArea  EquivDiameter    Extent  Solidity  roundness  \\\n",
              "0          0.882317       58977     272.306674  0.604756  0.987470   0.775723   \n",
              "1          0.592420       44780     238.071960  0.771745  0.994082   0.974620   \n",
              "2          0.712136       32034     200.781748  0.801407  0.988387   0.930853   \n",
              "3          0.727925       39208     222.201897  0.766137  0.989033   0.904439   \n",
              "4          0.726511       43028     232.703412  0.729816  0.988426   0.888895   \n",
              "...             ...         ...            ...       ...       ...        ...   \n",
              "10829      0.637708       38174     219.315230  0.770519  0.989600   0.925983   \n",
              "10830      0.743179       32582     202.439525  0.731805  0.987877   0.907466   \n",
              "10831      0.830699       82554     322.797312  0.771996  0.991315   0.856226   \n",
              "10832      0.765357       48777     247.760822  0.677002  0.988417   0.887206   \n",
              "10833      0.638903       28302     188.901592  0.776688  0.990248   0.943560   \n",
              "\n",
              "       Compactness  ShapeFactor1  ShapeFactor2  ShapeFactor3  ShapeFactor4  \n",
              "0         0.685561      0.006820      0.000929      0.469994      0.998595  \n",
              "1         0.896387      0.005966      0.002376      0.803510      0.997370  \n",
              "2         0.836931      0.007577      0.002293      0.700453      0.997737  \n",
              "3         0.827733      0.006923      0.002005      0.685142      0.999250  \n",
              "4         0.827499      0.006612      0.001912      0.684755      0.996507  \n",
              "...            ...           ...           ...           ...           ...  \n",
              "10829     0.876648      0.006622      0.002413      0.768513      0.997708  \n",
              "10830     0.817017      0.007698      0.002116      0.667517      0.997646  \n",
              "10831     0.744050      0.005301      0.001002      0.553610      0.994412  \n",
              "10832     0.800159      0.006422      0.001624      0.640255      0.994793  \n",
              "10833     0.876791      0.007687      0.002802      0.768762      0.999317  \n",
              "\n",
              "[10834 rows x 16 columns]"
            ],
            "text/html": [
              "\n",
              "  <div id=\"df-bd669a39-9573-4b89-a2a6-a477c8b67777\">\n",
              "    <div class=\"colab-df-container\">\n",
              "      <div>\n",
              "<style scoped>\n",
              "    .dataframe tbody tr th:only-of-type {\n",
              "        vertical-align: middle;\n",
              "    }\n",
              "\n",
              "    .dataframe tbody tr th {\n",
              "        vertical-align: top;\n",
              "    }\n",
              "\n",
              "    .dataframe thead th {\n",
              "        text-align: right;\n",
              "    }\n",
              "</style>\n",
              "<table border=\"1\" class=\"dataframe\">\n",
              "  <thead>\n",
              "    <tr style=\"text-align: right;\">\n",
              "      <th></th>\n",
              "      <th>Area</th>\n",
              "      <th>Perimeter</th>\n",
              "      <th>MajorAxisLength</th>\n",
              "      <th>MinorAxisLength</th>\n",
              "      <th>AspectRation</th>\n",
              "      <th>Eccentricity</th>\n",
              "      <th>ConvexArea</th>\n",
              "      <th>EquivDiameter</th>\n",
              "      <th>Extent</th>\n",
              "      <th>Solidity</th>\n",
              "      <th>roundness</th>\n",
              "      <th>Compactness</th>\n",
              "      <th>ShapeFactor1</th>\n",
              "      <th>ShapeFactor2</th>\n",
              "      <th>ShapeFactor3</th>\n",
              "      <th>ShapeFactor4</th>\n",
              "    </tr>\n",
              "  </thead>\n",
              "  <tbody>\n",
              "    <tr>\n",
              "      <th>0</th>\n",
              "      <td>58238</td>\n",
              "      <td>971.303</td>\n",
              "      <td>397.202654</td>\n",
              "      <td>186.945510</td>\n",
              "      <td>2.124697</td>\n",
              "      <td>0.882317</td>\n",
              "      <td>58977</td>\n",
              "      <td>272.306674</td>\n",
              "      <td>0.604756</td>\n",
              "      <td>0.987470</td>\n",
              "      <td>0.775723</td>\n",
              "      <td>0.685561</td>\n",
              "      <td>0.006820</td>\n",
              "      <td>0.000929</td>\n",
              "      <td>0.469994</td>\n",
              "      <td>0.998595</td>\n",
              "    </tr>\n",
              "    <tr>\n",
              "      <th>1</th>\n",
              "      <td>44515</td>\n",
              "      <td>757.601</td>\n",
              "      <td>265.590470</td>\n",
              "      <td>213.967453</td>\n",
              "      <td>1.241266</td>\n",
              "      <td>0.592420</td>\n",
              "      <td>44780</td>\n",
              "      <td>238.071960</td>\n",
              "      <td>0.771745</td>\n",
              "      <td>0.994082</td>\n",
              "      <td>0.974620</td>\n",
              "      <td>0.896387</td>\n",
              "      <td>0.005966</td>\n",
              "      <td>0.002376</td>\n",
              "      <td>0.803510</td>\n",
              "      <td>0.997370</td>\n",
              "    </tr>\n",
              "    <tr>\n",
              "      <th>2</th>\n",
              "      <td>31662</td>\n",
              "      <td>653.783</td>\n",
              "      <td>239.902428</td>\n",
              "      <td>168.421505</td>\n",
              "      <td>1.424417</td>\n",
              "      <td>0.712136</td>\n",
              "      <td>32034</td>\n",
              "      <td>200.781748</td>\n",
              "      <td>0.801407</td>\n",
              "      <td>0.988387</td>\n",
              "      <td>0.930853</td>\n",
              "      <td>0.836931</td>\n",
              "      <td>0.007577</td>\n",
              "      <td>0.002293</td>\n",
              "      <td>0.700453</td>\n",
              "      <td>0.997737</td>\n",
              "    </tr>\n",
              "    <tr>\n",
              "      <th>3</th>\n",
              "      <td>38778</td>\n",
              "      <td>734.020</td>\n",
              "      <td>268.446281</td>\n",
              "      <td>184.061923</td>\n",
              "      <td>1.458456</td>\n",
              "      <td>0.727925</td>\n",
              "      <td>39208</td>\n",
              "      <td>222.201897</td>\n",
              "      <td>0.766137</td>\n",
              "      <td>0.989033</td>\n",
              "      <td>0.904439</td>\n",
              "      <td>0.827733</td>\n",
              "      <td>0.006923</td>\n",
              "      <td>0.002005</td>\n",
              "      <td>0.685142</td>\n",
              "      <td>0.999250</td>\n",
              "    </tr>\n",
              "    <tr>\n",
              "      <th>4</th>\n",
              "      <td>42530</td>\n",
              "      <td>775.403</td>\n",
              "      <td>281.212824</td>\n",
              "      <td>193.236878</td>\n",
              "      <td>1.455275</td>\n",
              "      <td>0.726511</td>\n",
              "      <td>43028</td>\n",
              "      <td>232.703412</td>\n",
              "      <td>0.729816</td>\n",
              "      <td>0.988426</td>\n",
              "      <td>0.888895</td>\n",
              "      <td>0.827499</td>\n",
              "      <td>0.006612</td>\n",
              "      <td>0.001912</td>\n",
              "      <td>0.684755</td>\n",
              "      <td>0.996507</td>\n",
              "    </tr>\n",
              "    <tr>\n",
              "      <th>...</th>\n",
              "      <td>...</td>\n",
              "      <td>...</td>\n",
              "      <td>...</td>\n",
              "      <td>...</td>\n",
              "      <td>...</td>\n",
              "      <td>...</td>\n",
              "      <td>...</td>\n",
              "      <td>...</td>\n",
              "      <td>...</td>\n",
              "      <td>...</td>\n",
              "      <td>...</td>\n",
              "      <td>...</td>\n",
              "      <td>...</td>\n",
              "      <td>...</td>\n",
              "      <td>...</td>\n",
              "      <td>...</td>\n",
              "    </tr>\n",
              "    <tr>\n",
              "      <th>10829</th>\n",
              "      <td>37777</td>\n",
              "      <td>716.007</td>\n",
              "      <td>250.174662</td>\n",
              "      <td>192.704033</td>\n",
              "      <td>1.298233</td>\n",
              "      <td>0.637708</td>\n",
              "      <td>38174</td>\n",
              "      <td>219.315230</td>\n",
              "      <td>0.770519</td>\n",
              "      <td>0.989600</td>\n",
              "      <td>0.925983</td>\n",
              "      <td>0.876648</td>\n",
              "      <td>0.006622</td>\n",
              "      <td>0.002413</td>\n",
              "      <td>0.768513</td>\n",
              "      <td>0.997708</td>\n",
              "    </tr>\n",
              "    <tr>\n",
              "      <th>10830</th>\n",
              "      <td>32187</td>\n",
              "      <td>667.621</td>\n",
              "      <td>247.778775</td>\n",
              "      <td>165.786862</td>\n",
              "      <td>1.494562</td>\n",
              "      <td>0.743179</td>\n",
              "      <td>32582</td>\n",
              "      <td>202.439525</td>\n",
              "      <td>0.731805</td>\n",
              "      <td>0.987877</td>\n",
              "      <td>0.907466</td>\n",
              "      <td>0.817017</td>\n",
              "      <td>0.007698</td>\n",
              "      <td>0.002116</td>\n",
              "      <td>0.667517</td>\n",
              "      <td>0.997646</td>\n",
              "    </tr>\n",
              "    <tr>\n",
              "      <th>10831</th>\n",
              "      <td>81837</td>\n",
              "      <td>1095.937</td>\n",
              "      <td>433.838186</td>\n",
              "      <td>241.527026</td>\n",
              "      <td>1.796230</td>\n",
              "      <td>0.830699</td>\n",
              "      <td>82554</td>\n",
              "      <td>322.797312</td>\n",
              "      <td>0.771996</td>\n",
              "      <td>0.991315</td>\n",
              "      <td>0.856226</td>\n",
              "      <td>0.744050</td>\n",
              "      <td>0.005301</td>\n",
              "      <td>0.001002</td>\n",
              "      <td>0.553610</td>\n",
              "      <td>0.994412</td>\n",
              "    </tr>\n",
              "    <tr>\n",
              "      <th>10832</th>\n",
              "      <td>48212</td>\n",
              "      <td>826.362</td>\n",
              "      <td>309.639462</td>\n",
              "      <td>199.285811</td>\n",
              "      <td>1.553746</td>\n",
              "      <td>0.765357</td>\n",
              "      <td>48777</td>\n",
              "      <td>247.760822</td>\n",
              "      <td>0.677002</td>\n",
              "      <td>0.988417</td>\n",
              "      <td>0.887206</td>\n",
              "      <td>0.800159</td>\n",
              "      <td>0.006422</td>\n",
              "      <td>0.001624</td>\n",
              "      <td>0.640255</td>\n",
              "      <td>0.994793</td>\n",
              "    </tr>\n",
              "    <tr>\n",
              "      <th>10833</th>\n",
              "      <td>28026</td>\n",
              "      <td>610.943</td>\n",
              "      <td>215.446569</td>\n",
              "      <td>165.740377</td>\n",
              "      <td>1.299904</td>\n",
              "      <td>0.638903</td>\n",
              "      <td>28302</td>\n",
              "      <td>188.901592</td>\n",
              "      <td>0.776688</td>\n",
              "      <td>0.990248</td>\n",
              "      <td>0.943560</td>\n",
              "      <td>0.876791</td>\n",
              "      <td>0.007687</td>\n",
              "      <td>0.002802</td>\n",
              "      <td>0.768762</td>\n",
              "      <td>0.999317</td>\n",
              "    </tr>\n",
              "  </tbody>\n",
              "</table>\n",
              "<p>10834 rows × 16 columns</p>\n",
              "</div>\n",
              "      <button class=\"colab-df-convert\" onclick=\"convertToInteractive('df-bd669a39-9573-4b89-a2a6-a477c8b67777')\"\n",
              "              title=\"Convert this dataframe to an interactive table.\"\n",
              "              style=\"display:none;\">\n",
              "        \n",
              "  <svg xmlns=\"http://www.w3.org/2000/svg\" height=\"24px\"viewBox=\"0 0 24 24\"\n",
              "       width=\"24px\">\n",
              "    <path d=\"M0 0h24v24H0V0z\" fill=\"none\"/>\n",
              "    <path d=\"M18.56 5.44l.94 2.06.94-2.06 2.06-.94-2.06-.94-.94-2.06-.94 2.06-2.06.94zm-11 1L8.5 8.5l.94-2.06 2.06-.94-2.06-.94L8.5 2.5l-.94 2.06-2.06.94zm10 10l.94 2.06.94-2.06 2.06-.94-2.06-.94-.94-2.06-.94 2.06-2.06.94z\"/><path d=\"M17.41 7.96l-1.37-1.37c-.4-.4-.92-.59-1.43-.59-.52 0-1.04.2-1.43.59L10.3 9.45l-7.72 7.72c-.78.78-.78 2.05 0 2.83L4 21.41c.39.39.9.59 1.41.59.51 0 1.02-.2 1.41-.59l7.78-7.78 2.81-2.81c.8-.78.8-2.07 0-2.86zM5.41 20L4 18.59l7.72-7.72 1.47 1.35L5.41 20z\"/>\n",
              "  </svg>\n",
              "      </button>\n",
              "      \n",
              "  <style>\n",
              "    .colab-df-container {\n",
              "      display:flex;\n",
              "      flex-wrap:wrap;\n",
              "      gap: 12px;\n",
              "    }\n",
              "\n",
              "    .colab-df-convert {\n",
              "      background-color: #E8F0FE;\n",
              "      border: none;\n",
              "      border-radius: 50%;\n",
              "      cursor: pointer;\n",
              "      display: none;\n",
              "      fill: #1967D2;\n",
              "      height: 32px;\n",
              "      padding: 0 0 0 0;\n",
              "      width: 32px;\n",
              "    }\n",
              "\n",
              "    .colab-df-convert:hover {\n",
              "      background-color: #E2EBFA;\n",
              "      box-shadow: 0px 1px 2px rgba(60, 64, 67, 0.3), 0px 1px 3px 1px rgba(60, 64, 67, 0.15);\n",
              "      fill: #174EA6;\n",
              "    }\n",
              "\n",
              "    [theme=dark] .colab-df-convert {\n",
              "      background-color: #3B4455;\n",
              "      fill: #D2E3FC;\n",
              "    }\n",
              "\n",
              "    [theme=dark] .colab-df-convert:hover {\n",
              "      background-color: #434B5C;\n",
              "      box-shadow: 0px 1px 3px 1px rgba(0, 0, 0, 0.15);\n",
              "      filter: drop-shadow(0px 1px 2px rgba(0, 0, 0, 0.3));\n",
              "      fill: #FFFFFF;\n",
              "    }\n",
              "  </style>\n",
              "\n",
              "      <script>\n",
              "        const buttonEl =\n",
              "          document.querySelector('#df-bd669a39-9573-4b89-a2a6-a477c8b67777 button.colab-df-convert');\n",
              "        buttonEl.style.display =\n",
              "          google.colab.kernel.accessAllowed ? 'block' : 'none';\n",
              "\n",
              "        async function convertToInteractive(key) {\n",
              "          const element = document.querySelector('#df-bd669a39-9573-4b89-a2a6-a477c8b67777');\n",
              "          const dataTable =\n",
              "            await google.colab.kernel.invokeFunction('convertToInteractive',\n",
              "                                                     [key], {});\n",
              "          if (!dataTable) return;\n",
              "\n",
              "          const docLinkHtml = 'Like what you see? Visit the ' +\n",
              "            '<a target=\"_blank\" href=https://colab.research.google.com/notebooks/data_table.ipynb>data table notebook</a>'\n",
              "            + ' to learn more about interactive tables.';\n",
              "          element.innerHTML = '';\n",
              "          dataTable['output_type'] = 'display_data';\n",
              "          await google.colab.output.renderOutput(dataTable, element);\n",
              "          const docLink = document.createElement('div');\n",
              "          docLink.innerHTML = docLinkHtml;\n",
              "          element.appendChild(docLink);\n",
              "        }\n",
              "      </script>\n",
              "    </div>\n",
              "  </div>\n",
              "  "
            ]
          },
          "metadata": {},
          "execution_count": 33
        }
      ]
    },
    {
      "cell_type": "code",
      "source": [
        "pd.DataFrame(Labels).value_counts()"
      ],
      "metadata": {
        "colab": {
          "base_uri": "https://localhost:8080/"
        },
        "id": "pECfBcRDQzyO",
        "outputId": "35bb75a4-bb0a-4a46-da90-828a3e1c60d1"
      },
      "execution_count": 34,
      "outputs": [
        {
          "output_type": "execute_result",
          "data": {
            "text/plain": [
              "3    2837\n",
              "6    2109\n",
              "5    1621\n",
              "4    1488\n",
              "2    1304\n",
              "0    1057\n",
              "1     418\n",
              "dtype: int64"
            ]
          },
          "metadata": {},
          "execution_count": 34
        }
      ]
    },
    {
      "cell_type": "code",
      "source": [
        "# Data=Data[['Area','Perimeter','MajorAxisLength','MinorAxisLength','ConvexArea','EquivDiameter','roundness','ShapeFactor1','ShapeFactor2']]"
      ],
      "metadata": {
        "id": "Xy2AKlIbS8El"
      },
      "execution_count": 35,
      "outputs": []
    },
    {
      "cell_type": "code",
      "source": [
        "from sklearn.model_selection import train_test_split"
      ],
      "metadata": {
        "execution": {
          "iopub.status.busy": "2022-05-17T16:33:12.193849Z",
          "iopub.execute_input": "2022-05-17T16:33:12.194139Z",
          "iopub.status.idle": "2022-05-17T16:33:12.199178Z",
          "shell.execute_reply.started": "2022-05-17T16:33:12.194107Z",
          "shell.execute_reply": "2022-05-17T16:33:12.198186Z"
        },
        "trusted": true,
        "id": "PuUw6Y8f3cLJ"
      },
      "execution_count": 36,
      "outputs": []
    },
    {
      "cell_type": "code",
      "source": [
        "from imblearn.over_sampling import SMOTE"
      ],
      "metadata": {
        "id": "5Bi7puOZRcG5"
      },
      "execution_count": 37,
      "outputs": []
    },
    {
      "cell_type": "code",
      "source": [
        "oversample=SMOTE()\n",
        "Data,Labels=oversample.fit_resample(Data,Labels)"
      ],
      "metadata": {
        "id": "00AtvpWyQqpJ"
      },
      "execution_count": 38,
      "outputs": []
    },
    {
      "cell_type": "code",
      "source": [
        "features_train, features_test, labels_train, labels_test = train_test_split(Data,Labels,test_size=0.3,random_state=100)"
      ],
      "metadata": {
        "execution": {
          "iopub.status.busy": "2022-05-17T17:02:54.111149Z",
          "iopub.execute_input": "2022-05-17T17:02:54.111477Z",
          "iopub.status.idle": "2022-05-17T17:02:54.127234Z",
          "shell.execute_reply.started": "2022-05-17T17:02:54.111443Z",
          "shell.execute_reply": "2022-05-17T17:02:54.125948Z"
        },
        "trusted": true,
        "id": "D619Z9rV3cLK"
      },
      "execution_count": 39,
      "outputs": []
    },
    {
      "cell_type": "code",
      "source": [
        "pca=PCA(n_components=8)\n",
        "features_train=pca.fit_transform(features_train)\n",
        "features_test=pca.transform(features_test)"
      ],
      "metadata": {
        "id": "aA70qIi0UIRW"
      },
      "execution_count": 40,
      "outputs": []
    },
    {
      "cell_type": "code",
      "source": [
        "# from sklearn.preprocessing import StandardScaler\n",
        "# scaler = StandardScaler()\n",
        "# df_scaled = scaler.fit_transform(features_train)\n",
        "# features_train=df_scaled"
      ],
      "metadata": {
        "execution": {
          "iopub.status.busy": "2022-05-17T17:04:18.892070Z",
          "iopub.execute_input": "2022-05-17T17:04:18.892537Z",
          "iopub.status.idle": "2022-05-17T17:04:19.003757Z",
          "shell.execute_reply.started": "2022-05-17T17:04:18.892502Z",
          "shell.execute_reply": "2022-05-17T17:04:19.002771Z"
        },
        "trusted": true,
        "id": "VZVSBUX53cLK"
      },
      "execution_count": 41,
      "outputs": []
    },
    {
      "cell_type": "code",
      "source": [
        "from sklearn.preprocessing import RobustScaler\n",
        "\n",
        "scaler = RobustScaler()\n",
        "df_scaled = scaler.fit_transform(features_train)\n",
        "features_train=df_scaled"
      ],
      "metadata": {
        "id": "7d7LtZBSAKwG"
      },
      "execution_count": 42,
      "outputs": []
    },
    {
      "cell_type": "code",
      "source": [
        "df_scaled = scaler.transform(features_test)\n",
        "features_test=df_scaled"
      ],
      "metadata": {
        "execution": {
          "iopub.status.busy": "2022-05-17T17:04:23.159837Z",
          "iopub.execute_input": "2022-05-17T17:04:23.160263Z",
          "iopub.status.idle": "2022-05-17T17:04:23.227612Z",
          "shell.execute_reply.started": "2022-05-17T17:04:23.160226Z",
          "shell.execute_reply": "2022-05-17T17:04:23.226730Z"
        },
        "trusted": true,
        "id": "iZFlqIsY3cLK"
      },
      "execution_count": 43,
      "outputs": []
    },
    {
      "cell_type": "code",
      "source": [
        "from sklearn.metrics import f1_score"
      ],
      "metadata": {
        "execution": {
          "iopub.status.busy": "2022-05-17T17:05:05.074248Z",
          "iopub.execute_input": "2022-05-17T17:05:05.074553Z",
          "iopub.status.idle": "2022-05-17T17:05:05.079479Z",
          "shell.execute_reply.started": "2022-05-17T17:05:05.074519Z",
          "shell.execute_reply": "2022-05-17T17:05:05.078426Z"
        },
        "trusted": true,
        "id": "9lk_vkWW3cLQ"
      },
      "execution_count": 44,
      "outputs": []
    },
    {
      "cell_type": "code",
      "source": [
        "from sklearn.metrics import confusion_matrix"
      ],
      "metadata": {
        "execution": {
          "iopub.status.busy": "2022-05-17T17:13:43.753315Z",
          "iopub.execute_input": "2022-05-17T17:13:43.753626Z",
          "iopub.status.idle": "2022-05-17T17:13:43.757675Z",
          "shell.execute_reply.started": "2022-05-17T17:13:43.753594Z",
          "shell.execute_reply": "2022-05-17T17:13:43.756997Z"
        },
        "trusted": true,
        "id": "M0cfaayc3cLR"
      },
      "execution_count": 45,
      "outputs": []
    },
    {
      "cell_type": "code",
      "source": [
        ""
      ],
      "metadata": {
        "id": "cmJUrXtScwVZ"
      },
      "execution_count": 45,
      "outputs": []
    },
    {
      "cell_type": "code",
      "source": [
        "model = Sequential()\n",
        "model.add(Dense(512, activation='relu',input_shape=(8,)))\n",
        "model.add(Dropout(0.2))\n",
        "model.add(Dense(256, activation='relu'))\n",
        "model.add(Dropout(0.2))\n",
        "model.add(Dense(128, activation='relu'))\n",
        "model.add(Dropout(0.2))\n",
        "model.add(Dense(64, activation='relu'))\n",
        "model.add(Dropout(0.2))\n",
        "model.add(Dense(32, activation='relu'))\n",
        "model.add(Dropout(0.2))\n",
        "model.add(Dense(7, activation='softmax'))"
      ],
      "metadata": {
        "id": "44WMkDajc7XI"
      },
      "execution_count": 46,
      "outputs": []
    },
    {
      "cell_type": "code",
      "source": [
        "features_test.shape"
      ],
      "metadata": {
        "colab": {
          "base_uri": "https://localhost:8080/"
        },
        "id": "gWmyqLEu8k0M",
        "outputId": "8d7f5055-ab26-4b30-bfe0-225cdbf95b97"
      },
      "execution_count": 47,
      "outputs": [
        {
          "output_type": "execute_result",
          "data": {
            "text/plain": [
              "(5958, 8)"
            ]
          },
          "metadata": {},
          "execution_count": 47
        }
      ]
    },
    {
      "cell_type": "code",
      "source": [
        "labels_test.shape"
      ],
      "metadata": {
        "colab": {
          "base_uri": "https://localhost:8080/"
        },
        "id": "24jB_1EY8lRk",
        "outputId": "ecf29470-9458-4601-a61e-aae841f98e29"
      },
      "execution_count": 48,
      "outputs": [
        {
          "output_type": "execute_result",
          "data": {
            "text/plain": [
              "(5958,)"
            ]
          },
          "metadata": {},
          "execution_count": 48
        }
      ]
    },
    {
      "cell_type": "code",
      "source": [
        "model.compile(optimizer=optimizers.Adam(learning_rate=1e-4), \n",
        "              loss='sparse_categorical_crossentropy', \n",
        "              metrics=['accuracy'])\n",
        "\n",
        "early_stopp = EarlyStopping(patience=10, restore_best_weights=True, monitor='val_loss')\n",
        "\n",
        "history = model.fit(features_train, labels_train, epochs=100, \n",
        "                    validation_data=(features_test, labels_test), \n",
        "                    batch_size=32,callbacks=[early_stopp])"
      ],
      "metadata": {
        "id": "xTfqiyDXf0tj",
        "colab": {
          "base_uri": "https://localhost:8080/"
        },
        "outputId": "95cf4e0f-a907-41de-ccf8-23d8dd24fd38"
      },
      "execution_count": 49,
      "outputs": [
        {
          "output_type": "stream",
          "name": "stdout",
          "text": [
            "Epoch 1/100\n",
            "435/435 [==============================] - 7s 11ms/step - loss: 1.0948 - accuracy: 0.6398 - val_loss: 0.3100 - val_accuracy: 0.9162\n",
            "Epoch 2/100\n",
            "435/435 [==============================] - 4s 10ms/step - loss: 0.3759 - accuracy: 0.8873 - val_loss: 0.2268 - val_accuracy: 0.9267\n",
            "Epoch 3/100\n",
            "435/435 [==============================] - 4s 9ms/step - loss: 0.2998 - accuracy: 0.9091 - val_loss: 0.2064 - val_accuracy: 0.9335\n",
            "Epoch 4/100\n",
            "435/435 [==============================] - 3s 7ms/step - loss: 0.2726 - accuracy: 0.9161 - val_loss: 0.1927 - val_accuracy: 0.9376\n",
            "Epoch 5/100\n",
            "435/435 [==============================] - 2s 5ms/step - loss: 0.2515 - accuracy: 0.9246 - val_loss: 0.1902 - val_accuracy: 0.9367\n",
            "Epoch 6/100\n",
            "435/435 [==============================] - 2s 5ms/step - loss: 0.2363 - accuracy: 0.9274 - val_loss: 0.1813 - val_accuracy: 0.9389\n",
            "Epoch 7/100\n",
            "435/435 [==============================] - 2s 5ms/step - loss: 0.2295 - accuracy: 0.9302 - val_loss: 0.1812 - val_accuracy: 0.9397\n",
            "Epoch 8/100\n",
            "435/435 [==============================] - 2s 5ms/step - loss: 0.2176 - accuracy: 0.9342 - val_loss: 0.1755 - val_accuracy: 0.9434\n",
            "Epoch 9/100\n",
            "435/435 [==============================] - 2s 5ms/step - loss: 0.2164 - accuracy: 0.9349 - val_loss: 0.1723 - val_accuracy: 0.9414\n",
            "Epoch 10/100\n",
            "435/435 [==============================] - 2s 5ms/step - loss: 0.2076 - accuracy: 0.9368 - val_loss: 0.1699 - val_accuracy: 0.9434\n",
            "Epoch 11/100\n",
            "435/435 [==============================] - 2s 5ms/step - loss: 0.2005 - accuracy: 0.9385 - val_loss: 0.1669 - val_accuracy: 0.9448\n",
            "Epoch 12/100\n",
            "435/435 [==============================] - 2s 5ms/step - loss: 0.2004 - accuracy: 0.9376 - val_loss: 0.1653 - val_accuracy: 0.9444\n",
            "Epoch 13/100\n",
            "435/435 [==============================] - 2s 5ms/step - loss: 0.1974 - accuracy: 0.9372 - val_loss: 0.1612 - val_accuracy: 0.9451\n",
            "Epoch 14/100\n",
            "435/435 [==============================] - 2s 5ms/step - loss: 0.1886 - accuracy: 0.9414 - val_loss: 0.1600 - val_accuracy: 0.9456\n",
            "Epoch 15/100\n",
            "435/435 [==============================] - 2s 5ms/step - loss: 0.1891 - accuracy: 0.9395 - val_loss: 0.1615 - val_accuracy: 0.9463\n",
            "Epoch 16/100\n",
            "435/435 [==============================] - 2s 5ms/step - loss: 0.1852 - accuracy: 0.9419 - val_loss: 0.1582 - val_accuracy: 0.9460\n",
            "Epoch 17/100\n",
            "435/435 [==============================] - 2s 5ms/step - loss: 0.1790 - accuracy: 0.9450 - val_loss: 0.1577 - val_accuracy: 0.9466\n",
            "Epoch 18/100\n",
            "435/435 [==============================] - 2s 5ms/step - loss: 0.1866 - accuracy: 0.9404 - val_loss: 0.1542 - val_accuracy: 0.9463\n",
            "Epoch 19/100\n",
            "435/435 [==============================] - 2s 5ms/step - loss: 0.1798 - accuracy: 0.9435 - val_loss: 0.1546 - val_accuracy: 0.9480\n",
            "Epoch 20/100\n",
            "435/435 [==============================] - 2s 5ms/step - loss: 0.1734 - accuracy: 0.9476 - val_loss: 0.1536 - val_accuracy: 0.9483\n",
            "Epoch 21/100\n",
            "435/435 [==============================] - 2s 5ms/step - loss: 0.1732 - accuracy: 0.9451 - val_loss: 0.1543 - val_accuracy: 0.9481\n",
            "Epoch 22/100\n",
            "435/435 [==============================] - 2s 5ms/step - loss: 0.1712 - accuracy: 0.9463 - val_loss: 0.1517 - val_accuracy: 0.9496\n",
            "Epoch 23/100\n",
            "435/435 [==============================] - 2s 5ms/step - loss: 0.1682 - accuracy: 0.9452 - val_loss: 0.1553 - val_accuracy: 0.9490\n",
            "Epoch 24/100\n",
            "435/435 [==============================] - 2s 6ms/step - loss: 0.1722 - accuracy: 0.9450 - val_loss: 0.1497 - val_accuracy: 0.9488\n",
            "Epoch 25/100\n",
            "435/435 [==============================] - 2s 6ms/step - loss: 0.1668 - accuracy: 0.9455 - val_loss: 0.1541 - val_accuracy: 0.9473\n",
            "Epoch 26/100\n",
            "435/435 [==============================] - 2s 5ms/step - loss: 0.1697 - accuracy: 0.9461 - val_loss: 0.1498 - val_accuracy: 0.9481\n",
            "Epoch 27/100\n",
            "435/435 [==============================] - 2s 6ms/step - loss: 0.1624 - accuracy: 0.9479 - val_loss: 0.1497 - val_accuracy: 0.9490\n",
            "Epoch 28/100\n",
            "435/435 [==============================] - 2s 5ms/step - loss: 0.1658 - accuracy: 0.9450 - val_loss: 0.1476 - val_accuracy: 0.9502\n",
            "Epoch 29/100\n",
            "435/435 [==============================] - 2s 5ms/step - loss: 0.1570 - accuracy: 0.9489 - val_loss: 0.1488 - val_accuracy: 0.9486\n",
            "Epoch 30/100\n",
            "435/435 [==============================] - 2s 6ms/step - loss: 0.1669 - accuracy: 0.9456 - val_loss: 0.1461 - val_accuracy: 0.9503\n",
            "Epoch 31/100\n",
            "435/435 [==============================] - 2s 5ms/step - loss: 0.1639 - accuracy: 0.9445 - val_loss: 0.1476 - val_accuracy: 0.9505\n",
            "Epoch 32/100\n",
            "435/435 [==============================] - 2s 5ms/step - loss: 0.1573 - accuracy: 0.9482 - val_loss: 0.1482 - val_accuracy: 0.9512\n",
            "Epoch 33/100\n",
            "435/435 [==============================] - 2s 6ms/step - loss: 0.1547 - accuracy: 0.9468 - val_loss: 0.1477 - val_accuracy: 0.9512\n",
            "Epoch 34/100\n",
            "435/435 [==============================] - 2s 5ms/step - loss: 0.1567 - accuracy: 0.9482 - val_loss: 0.1468 - val_accuracy: 0.9503\n",
            "Epoch 35/100\n",
            "435/435 [==============================] - 2s 5ms/step - loss: 0.1551 - accuracy: 0.9491 - val_loss: 0.1454 - val_accuracy: 0.9503\n",
            "Epoch 36/100\n",
            "435/435 [==============================] - 2s 5ms/step - loss: 0.1585 - accuracy: 0.9481 - val_loss: 0.1451 - val_accuracy: 0.9518\n",
            "Epoch 37/100\n",
            "435/435 [==============================] - 2s 5ms/step - loss: 0.1503 - accuracy: 0.9497 - val_loss: 0.1464 - val_accuracy: 0.9507\n",
            "Epoch 38/100\n",
            "435/435 [==============================] - 3s 6ms/step - loss: 0.1522 - accuracy: 0.9482 - val_loss: 0.1447 - val_accuracy: 0.9505\n",
            "Epoch 39/100\n",
            "435/435 [==============================] - 3s 7ms/step - loss: 0.1539 - accuracy: 0.9481 - val_loss: 0.1430 - val_accuracy: 0.9533\n",
            "Epoch 40/100\n",
            "435/435 [==============================] - 2s 6ms/step - loss: 0.1524 - accuracy: 0.9495 - val_loss: 0.1456 - val_accuracy: 0.9508\n",
            "Epoch 41/100\n",
            "435/435 [==============================] - 3s 6ms/step - loss: 0.1484 - accuracy: 0.9498 - val_loss: 0.1448 - val_accuracy: 0.9505\n",
            "Epoch 42/100\n",
            "435/435 [==============================] - 2s 5ms/step - loss: 0.1481 - accuracy: 0.9491 - val_loss: 0.1443 - val_accuracy: 0.9508\n",
            "Epoch 43/100\n",
            "435/435 [==============================] - 2s 5ms/step - loss: 0.1510 - accuracy: 0.9507 - val_loss: 0.1455 - val_accuracy: 0.9510\n",
            "Epoch 44/100\n",
            "435/435 [==============================] - 2s 5ms/step - loss: 0.1484 - accuracy: 0.9514 - val_loss: 0.1427 - val_accuracy: 0.9533\n",
            "Epoch 45/100\n",
            "435/435 [==============================] - 2s 5ms/step - loss: 0.1480 - accuracy: 0.9492 - val_loss: 0.1436 - val_accuracy: 0.9508\n",
            "Epoch 46/100\n",
            "435/435 [==============================] - 2s 5ms/step - loss: 0.1493 - accuracy: 0.9493 - val_loss: 0.1442 - val_accuracy: 0.9513\n",
            "Epoch 47/100\n",
            "435/435 [==============================] - 2s 5ms/step - loss: 0.1458 - accuracy: 0.9494 - val_loss: 0.1425 - val_accuracy: 0.9513\n",
            "Epoch 48/100\n",
            "435/435 [==============================] - 2s 5ms/step - loss: 0.1447 - accuracy: 0.9503 - val_loss: 0.1434 - val_accuracy: 0.9502\n",
            "Epoch 49/100\n",
            "435/435 [==============================] - 2s 6ms/step - loss: 0.1448 - accuracy: 0.9513 - val_loss: 0.1412 - val_accuracy: 0.9527\n",
            "Epoch 50/100\n",
            "435/435 [==============================] - 2s 5ms/step - loss: 0.1458 - accuracy: 0.9496 - val_loss: 0.1432 - val_accuracy: 0.9540\n",
            "Epoch 51/100\n",
            "435/435 [==============================] - 2s 5ms/step - loss: 0.1424 - accuracy: 0.9504 - val_loss: 0.1418 - val_accuracy: 0.9523\n",
            "Epoch 52/100\n",
            "435/435 [==============================] - 2s 5ms/step - loss: 0.1396 - accuracy: 0.9521 - val_loss: 0.1414 - val_accuracy: 0.9535\n",
            "Epoch 53/100\n",
            "435/435 [==============================] - 4s 10ms/step - loss: 0.1451 - accuracy: 0.9510 - val_loss: 0.1408 - val_accuracy: 0.9527\n",
            "Epoch 54/100\n",
            "435/435 [==============================] - 2s 5ms/step - loss: 0.1415 - accuracy: 0.9525 - val_loss: 0.1402 - val_accuracy: 0.9518\n",
            "Epoch 55/100\n",
            "435/435 [==============================] - 2s 5ms/step - loss: 0.1410 - accuracy: 0.9532 - val_loss: 0.1417 - val_accuracy: 0.9507\n",
            "Epoch 56/100\n",
            "435/435 [==============================] - 2s 5ms/step - loss: 0.1442 - accuracy: 0.9514 - val_loss: 0.1407 - val_accuracy: 0.9523\n",
            "Epoch 57/100\n",
            "435/435 [==============================] - 2s 5ms/step - loss: 0.1379 - accuracy: 0.9519 - val_loss: 0.1416 - val_accuracy: 0.9532\n",
            "Epoch 58/100\n",
            "435/435 [==============================] - 2s 5ms/step - loss: 0.1384 - accuracy: 0.9499 - val_loss: 0.1414 - val_accuracy: 0.9538\n",
            "Epoch 59/100\n",
            "435/435 [==============================] - 2s 5ms/step - loss: 0.1393 - accuracy: 0.9520 - val_loss: 0.1395 - val_accuracy: 0.9528\n",
            "Epoch 60/100\n",
            "435/435 [==============================] - 2s 5ms/step - loss: 0.1435 - accuracy: 0.9508 - val_loss: 0.1408 - val_accuracy: 0.9522\n",
            "Epoch 61/100\n",
            "435/435 [==============================] - 2s 6ms/step - loss: 0.1400 - accuracy: 0.9524 - val_loss: 0.1417 - val_accuracy: 0.9535\n",
            "Epoch 62/100\n",
            "435/435 [==============================] - 2s 5ms/step - loss: 0.1380 - accuracy: 0.9520 - val_loss: 0.1391 - val_accuracy: 0.9532\n",
            "Epoch 63/100\n",
            "435/435 [==============================] - 2s 5ms/step - loss: 0.1405 - accuracy: 0.9501 - val_loss: 0.1400 - val_accuracy: 0.9533\n",
            "Epoch 64/100\n",
            "435/435 [==============================] - 2s 5ms/step - loss: 0.1343 - accuracy: 0.9532 - val_loss: 0.1405 - val_accuracy: 0.9530\n",
            "Epoch 65/100\n",
            "435/435 [==============================] - 2s 6ms/step - loss: 0.1363 - accuracy: 0.9537 - val_loss: 0.1407 - val_accuracy: 0.9545\n",
            "Epoch 66/100\n",
            "435/435 [==============================] - 2s 5ms/step - loss: 0.1358 - accuracy: 0.9512 - val_loss: 0.1401 - val_accuracy: 0.9532\n",
            "Epoch 67/100\n",
            "435/435 [==============================] - 2s 5ms/step - loss: 0.1359 - accuracy: 0.9522 - val_loss: 0.1404 - val_accuracy: 0.9540\n",
            "Epoch 68/100\n",
            "435/435 [==============================] - 2s 5ms/step - loss: 0.1318 - accuracy: 0.9527 - val_loss: 0.1438 - val_accuracy: 0.9513\n",
            "Epoch 69/100\n",
            "435/435 [==============================] - 2s 5ms/step - loss: 0.1343 - accuracy: 0.9522 - val_loss: 0.1419 - val_accuracy: 0.9522\n",
            "Epoch 70/100\n",
            "435/435 [==============================] - 2s 6ms/step - loss: 0.1334 - accuracy: 0.9541 - val_loss: 0.1409 - val_accuracy: 0.9520\n",
            "Epoch 71/100\n",
            "435/435 [==============================] - 2s 5ms/step - loss: 0.1316 - accuracy: 0.9535 - val_loss: 0.1413 - val_accuracy: 0.9538\n",
            "Epoch 72/100\n",
            "435/435 [==============================] - 2s 5ms/step - loss: 0.1319 - accuracy: 0.9535 - val_loss: 0.1437 - val_accuracy: 0.9532\n"
          ]
        }
      ]
    },
    {
      "cell_type": "code",
      "source": [
        "#extract results from history\n",
        "\n",
        "train_loss = history.history['loss']\n",
        "train_acc = history.history['accuracy']\n",
        "\n",
        "val_loss = history.history['val_loss']\n",
        "val_acc = history.history['val_accuracy']\n",
        "epochs = range(1, len(train_loss)+1)"
      ],
      "metadata": {
        "id": "6DToSfcE1mDo"
      },
      "execution_count": 50,
      "outputs": []
    },
    {
      "cell_type": "code",
      "source": [
        "max(val_acc)"
      ],
      "metadata": {
        "colab": {
          "base_uri": "https://localhost:8080/"
        },
        "id": "zo97NT5PEyf_",
        "outputId": "51a6e6bc-59b7-4ee4-de38-7add82fc38d2"
      },
      "execution_count": 51,
      "outputs": [
        {
          "output_type": "execute_result",
          "data": {
            "text/plain": [
              "0.9545149207115173"
            ]
          },
          "metadata": {},
          "execution_count": 51
        }
      ]
    },
    {
      "cell_type": "code",
      "source": [
        "### get some results and Visualization from history\n",
        "import matplotlib.pyplot as plt\n",
        "\n",
        "fig, ax = plt.subplots(1, 2, figsize=(18, 7))\n",
        "fig.tight_layout(pad=4)  ## to avoid overlaping of titles in subplots (try comment it you will know)\n",
        "\n",
        "plt.sca(ax[0])\n",
        "plt.plot(epochs, train_loss, 'bo-', label='training')\n",
        "plt.plot(epochs, val_loss, 'go--', label='validating')\n",
        "plt.xlabel('epochs')\n",
        "plt.ylabel('losses')\n",
        "plt.title('Training& ValidatingLoss')\n",
        "plt.legend()\n",
        "\n",
        "plt.sca(ax[1])\n",
        "plt.plot(epochs, train_acc, 'bo-', label='training')\n",
        "plt.plot(epochs, val_acc, 'go--', label='validating')\n",
        "plt.xlabel('epochs')\n",
        "plt.ylabel('accuracy')\n",
        "plt.title('Training & Validating Accuracy')\n",
        "\n",
        "plt.legend(loc='lower right')\n",
        "plt.show()"
      ],
      "metadata": {
        "colab": {
          "base_uri": "https://localhost:8080/",
          "height": 428
        },
        "id": "i2Zg3-TKB0eb",
        "outputId": "d76cc449-baa0-4244-92d8-6a127d65fcf4"
      },
      "execution_count": 52,
      "outputs": [
        {
          "output_type": "display_data",
          "data": {
            "text/plain": [
              "<Figure size 1296x504 with 2 Axes>"
            ],
            "image/png": "[encoded data removed]"
          },
          "metadata": {
            "needs_background": "light"
          }
        }
      ]
    },
    {
      "cell_type": "code",
      "source": [
        "from sklearn.metrics import f1_score\n",
        "\n",
        "nums_predictions = np.argmax(model.predict(features_test), axis=-1)\n",
        "print(\" ====> \",f1_score(nums_predictions, labels_test,average=\"micro\"))"
      ],
      "metadata": {
        "colab": {
          "base_uri": "https://localhost:8080/"
        },
        "id": "YoM828z2aAn5",
        "outputId": "e29edb73-466e-45ab-92e0-ad6f3b9a59a1"
      },
      "execution_count": 53,
      "outputs": [
        {
          "output_type": "stream",
          "name": "stdout",
          "text": [
            " ====>  0.9531722054380665\n"
          ]
        }
      ]
    },
    {
      "cell_type": "code",
      "source": [
        "import tensorflow as tf\n",
        "cm=tf.math.confusion_matrix(\n",
        "    labels_test,\n",
        "    nums_predictions,\n",
        "    num_classes=7)"
      ],
      "metadata": {
        "id": "mdo5_DB8CD2-"
      },
      "execution_count": 54,
      "outputs": []
    },
    {
      "cell_type": "code",
      "source": [
        "import matplotlib.pyplot as plt\n",
        "import seaborn as sns\n",
        "plt.figure(figsize=(15,10))\n",
        "sns.heatmap(cm, annot=True, cmap='viridis',fmt='g')\n",
        "plt.title('Confusion Matrix')\n",
        "plt.show()"
      ],
      "metadata": {
        "colab": {
          "base_uri": "https://localhost:8080/",
          "height": 607
        },
        "id": "sXrjcnOtYzM5",
        "outputId": "0570887d-d35e-4b08-cc0f-45fde498b800"
      },
      "execution_count": 55,
      "outputs": [
        {
          "output_type": "display_data",
          "data": {
            "text/plain": [
              "<Figure size 1080x720 with 2 Axes>"
            ],
            "image/png": "[encoded data removed]"
          },
          "metadata": {
            "needs_background": "light"
          }
        }
      ]
    },
    {
      "cell_type": "code",
      "source": [
        "#Load test data\n",
        "test=pd.read_csv('./test.csv')"
      ],
      "metadata": {
        "id": "mAO8CUoAnXLc",
        "colab": {
          "base_uri": "https://localhost:8080/",
          "height": 362
        },
        "outputId": "7bbecb81-fb82-484e-8200-b7cbc9090f85"
      },
      "execution_count": 56,
      "outputs": [
        {
          "output_type": "error",
          "ename": "FileNotFoundError",
          "evalue": "ignored",
          "traceback": [
            "\u001b[0;31m---------------------------------------------------------------------------\u001b[0m",
            "\u001b[0;31mFileNotFoundError\u001b[0m                         Traceback (most recent call last)",
            "\u001b[0;32m<ipython-input-56-5d427d1a9d97>\u001b[0m in \u001b[0;36m<module>\u001b[0;34m()\u001b[0m\n\u001b[1;32m      1\u001b[0m \u001b[0;31m#Load test data\u001b[0m\u001b[0;34m\u001b[0m\u001b[0;34m\u001b[0m\u001b[0;34m\u001b[0m\u001b[0m\n\u001b[0;32m----> 2\u001b[0;31m \u001b[0mtest\u001b[0m\u001b[0;34m=\u001b[0m\u001b[0mpd\u001b[0m\u001b[0;34m.\u001b[0m\u001b[0mread_csv\u001b[0m\u001b[0;34m(\u001b[0m\u001b[0;34m'./test.csv'\u001b[0m\u001b[0;34m)\u001b[0m\u001b[0;34m\u001b[0m\u001b[0;34m\u001b[0m\u001b[0m\n\u001b[0m",
            "\u001b[0;32m/usr/local/lib/python3.7/dist-packages/pandas/util/_decorators.py\u001b[0m in \u001b[0;36mwrapper\u001b[0;34m(*args, **kwargs)\u001b[0m\n\u001b[1;32m    309\u001b[0m                     \u001b[0mstacklevel\u001b[0m\u001b[0;34m=\u001b[0m\u001b[0mstacklevel\u001b[0m\u001b[0;34m,\u001b[0m\u001b[0;34m\u001b[0m\u001b[0;34m\u001b[0m\u001b[0m\n\u001b[1;32m    310\u001b[0m                 )\n\u001b[0;32m--> 311\u001b[0;31m             \u001b[0;32mreturn\u001b[0m \u001b[0mfunc\u001b[0m\u001b[0;34m(\u001b[0m\u001b[0;34m*\u001b[0m\u001b[0margs\u001b[0m\u001b[0;34m,\u001b[0m \u001b[0;34m**\u001b[0m\u001b[0mkwargs\u001b[0m\u001b[0;34m)\u001b[0m\u001b[0;34m\u001b[0m\u001b[0;34m\u001b[0m\u001b[0m\n\u001b[0m\u001b[1;32m    312\u001b[0m \u001b[0;34m\u001b[0m\u001b[0m\n\u001b[1;32m    313\u001b[0m         \u001b[0;32mreturn\u001b[0m \u001b[0mwrapper\u001b[0m\u001b[0;34m\u001b[0m\u001b[0;34m\u001b[0m\u001b[0m\n",
            "\u001b[0;32m/usr/local/lib/python3.7/dist-packages/pandas/io/parsers/readers.py\u001b[0m in \u001b[0;36mread_csv\u001b[0;34m(filepath_or_buffer, sep, delimiter, header, names, index_col, usecols, squeeze, prefix, mangle_dupe_cols, dtype, engine, converters, true_values, false_values, skipinitialspace, skiprows, skipfooter, nrows, na_values, keep_default_na, na_filter, verbose, skip_blank_lines, parse_dates, infer_datetime_format, keep_date_col, date_parser, dayfirst, cache_dates, iterator, chunksize, compression, thousands, decimal, lineterminator, quotechar, quoting, doublequote, escapechar, comment, encoding, encoding_errors, dialect, error_bad_lines, warn_bad_lines, on_bad_lines, delim_whitespace, low_memory, memory_map, float_precision, storage_options)\u001b[0m\n\u001b[1;32m    584\u001b[0m     \u001b[0mkwds\u001b[0m\u001b[0;34m.\u001b[0m\u001b[0mupdate\u001b[0m\u001b[0;34m(\u001b[0m\u001b[0mkwds_defaults\u001b[0m\u001b[0;34m)\u001b[0m\u001b[0;34m\u001b[0m\u001b[0;34m\u001b[0m\u001b[0m\n\u001b[1;32m    585\u001b[0m \u001b[0;34m\u001b[0m\u001b[0m\n\u001b[0;32m--> 586\u001b[0;31m     \u001b[0;32mreturn\u001b[0m \u001b[0m_read\u001b[0m\u001b[0;34m(\u001b[0m\u001b[0mfilepath_or_buffer\u001b[0m\u001b[0;34m,\u001b[0m \u001b[0mkwds\u001b[0m\u001b[0;34m)\u001b[0m\u001b[0;34m\u001b[0m\u001b[0;34m\u001b[0m\u001b[0m\n\u001b[0m\u001b[1;32m    587\u001b[0m \u001b[0;34m\u001b[0m\u001b[0m\n\u001b[1;32m    588\u001b[0m \u001b[0;34m\u001b[0m\u001b[0m\n",
            "\u001b[0;32m/usr/local/lib/python3.7/dist-packages/pandas/io/parsers/readers.py\u001b[0m in \u001b[0;36m_read\u001b[0;34m(filepath_or_buffer, kwds)\u001b[0m\n\u001b[1;32m    480\u001b[0m \u001b[0;34m\u001b[0m\u001b[0m\n\u001b[1;32m    481\u001b[0m     \u001b[0;31m# Create the parser.\u001b[0m\u001b[0;34m\u001b[0m\u001b[0;34m\u001b[0m\u001b[0;34m\u001b[0m\u001b[0m\n\u001b[0;32m--> 482\u001b[0;31m     \u001b[0mparser\u001b[0m \u001b[0;34m=\u001b[0m \u001b[0mTextFileReader\u001b[0m\u001b[0;34m(\u001b[0m\u001b[0mfilepath_or_buffer\u001b[0m\u001b[0;34m,\u001b[0m \u001b[0;34m**\u001b[0m\u001b[0mkwds\u001b[0m\u001b[0;34m)\u001b[0m\u001b[0;34m\u001b[0m\u001b[0;34m\u001b[0m\u001b[0m\n\u001b[0m\u001b[1;32m    483\u001b[0m \u001b[0;34m\u001b[0m\u001b[0m\n\u001b[1;32m    484\u001b[0m     \u001b[0;32mif\u001b[0m \u001b[0mchunksize\u001b[0m \u001b[0;32mor\u001b[0m \u001b[0miterator\u001b[0m\u001b[0;34m:\u001b[0m\u001b[0;34m\u001b[0m\u001b[0;34m\u001b[0m\u001b[0m\n",
            "\u001b[0;32m/usr/local/lib/python3.7/dist-packages/pandas/io/parsers/readers.py\u001b[0m in \u001b[0;36m__init__\u001b[0;34m(self, f, engine, **kwds)\u001b[0m\n\u001b[1;32m    809\u001b[0m             \u001b[0mself\u001b[0m\u001b[0;34m.\u001b[0m\u001b[0moptions\u001b[0m\u001b[0;34m[\u001b[0m\u001b[0;34m\"has_index_names\"\u001b[0m\u001b[0;34m]\u001b[0m \u001b[0;34m=\u001b[0m \u001b[0mkwds\u001b[0m\u001b[0;34m[\u001b[0m\u001b[0;34m\"has_index_names\"\u001b[0m\u001b[0;34m]\u001b[0m\u001b[0;34m\u001b[0m\u001b[0;34m\u001b[0m\u001b[0m\n\u001b[1;32m    810\u001b[0m \u001b[0;34m\u001b[0m\u001b[0m\n\u001b[0;32m--> 811\u001b[0;31m         \u001b[0mself\u001b[0m\u001b[0;34m.\u001b[0m\u001b[0m_engine\u001b[0m \u001b[0;34m=\u001b[0m \u001b[0mself\u001b[0m\u001b[0;34m.\u001b[0m\u001b[0m_make_engine\u001b[0m\u001b[0;34m(\u001b[0m\u001b[0mself\u001b[0m\u001b[0;34m.\u001b[0m\u001b[0mengine\u001b[0m\u001b[0;34m)\u001b[0m\u001b[0;34m\u001b[0m\u001b[0;34m\u001b[0m\u001b[0m\n\u001b[0m\u001b[1;32m    812\u001b[0m \u001b[0;34m\u001b[0m\u001b[0m\n\u001b[1;32m    813\u001b[0m     \u001b[0;32mdef\u001b[0m \u001b[0mclose\u001b[0m\u001b[0;34m(\u001b[0m\u001b[0mself\u001b[0m\u001b[0;34m)\u001b[0m\u001b[0;34m:\u001b[0m\u001b[0;34m\u001b[0m\u001b[0;34m\u001b[0m\u001b[0m\n",
            "\u001b[0;32m/usr/local/lib/python3.7/dist-packages/pandas/io/parsers/readers.py\u001b[0m in \u001b[0;36m_make_engine\u001b[0;34m(self, engine)\u001b[0m\n\u001b[1;32m   1038\u001b[0m             )\n\u001b[1;32m   1039\u001b[0m         \u001b[0;31m# error: Too many arguments for \"ParserBase\"\u001b[0m\u001b[0;34m\u001b[0m\u001b[0;34m\u001b[0m\u001b[0;34m\u001b[0m\u001b[0m\n\u001b[0;32m-> 1040\u001b[0;31m         \u001b[0;32mreturn\u001b[0m \u001b[0mmapping\u001b[0m\u001b[0;34m[\u001b[0m\u001b[0mengine\u001b[0m\u001b[0;34m]\u001b[0m\u001b[0;34m(\u001b[0m\u001b[0mself\u001b[0m\u001b[0;34m.\u001b[0m\u001b[0mf\u001b[0m\u001b[0;34m,\u001b[0m \u001b[0;34m**\u001b[0m\u001b[0mself\u001b[0m\u001b[0;34m.\u001b[0m\u001b[0moptions\u001b[0m\u001b[0;34m)\u001b[0m  \u001b[0;31m# type: ignore[call-arg]\u001b[0m\u001b[0;34m\u001b[0m\u001b[0;34m\u001b[0m\u001b[0m\n\u001b[0m\u001b[1;32m   1041\u001b[0m \u001b[0;34m\u001b[0m\u001b[0m\n\u001b[1;32m   1042\u001b[0m     \u001b[0;32mdef\u001b[0m \u001b[0m_failover_to_python\u001b[0m\u001b[0;34m(\u001b[0m\u001b[0mself\u001b[0m\u001b[0;34m)\u001b[0m\u001b[0;34m:\u001b[0m\u001b[0;34m\u001b[0m\u001b[0;34m\u001b[0m\u001b[0m\n",
            "\u001b[0;32m/usr/local/lib/python3.7/dist-packages/pandas/io/parsers/c_parser_wrapper.py\u001b[0m in \u001b[0;36m__init__\u001b[0;34m(self, src, **kwds)\u001b[0m\n\u001b[1;32m     49\u001b[0m \u001b[0;34m\u001b[0m\u001b[0m\n\u001b[1;32m     50\u001b[0m         \u001b[0;31m# open handles\u001b[0m\u001b[0;34m\u001b[0m\u001b[0;34m\u001b[0m\u001b[0;34m\u001b[0m\u001b[0m\n\u001b[0;32m---> 51\u001b[0;31m         \u001b[0mself\u001b[0m\u001b[0;34m.\u001b[0m\u001b[0m_open_handles\u001b[0m\u001b[0;34m(\u001b[0m\u001b[0msrc\u001b[0m\u001b[0;34m,\u001b[0m \u001b[0mkwds\u001b[0m\u001b[0;34m)\u001b[0m\u001b[0;34m\u001b[0m\u001b[0;34m\u001b[0m\u001b[0m\n\u001b[0m\u001b[1;32m     52\u001b[0m         \u001b[0;32massert\u001b[0m \u001b[0mself\u001b[0m\u001b[0;34m.\u001b[0m\u001b[0mhandles\u001b[0m \u001b[0;32mis\u001b[0m \u001b[0;32mnot\u001b[0m \u001b[0;32mNone\u001b[0m\u001b[0;34m\u001b[0m\u001b[0;34m\u001b[0m\u001b[0m\n\u001b[1;32m     53\u001b[0m \u001b[0;34m\u001b[0m\u001b[0m\n",
            "\u001b[0;32m/usr/local/lib/python3.7/dist-packages/pandas/io/parsers/base_parser.py\u001b[0m in \u001b[0;36m_open_handles\u001b[0;34m(self, src, kwds)\u001b[0m\n\u001b[1;32m    227\u001b[0m             \u001b[0mmemory_map\u001b[0m\u001b[0;34m=\u001b[0m\u001b[0mkwds\u001b[0m\u001b[0;34m.\u001b[0m\u001b[0mget\u001b[0m\u001b[0;34m(\u001b[0m\u001b[0;34m\"memory_map\"\u001b[0m\u001b[0;34m,\u001b[0m \u001b[0;32mFalse\u001b[0m\u001b[0;34m)\u001b[0m\u001b[0;34m,\u001b[0m\u001b[0;34m\u001b[0m\u001b[0;34m\u001b[0m\u001b[0m\n\u001b[1;32m    228\u001b[0m             \u001b[0mstorage_options\u001b[0m\u001b[0;34m=\u001b[0m\u001b[0mkwds\u001b[0m\u001b[0;34m.\u001b[0m\u001b[0mget\u001b[0m\u001b[0;34m(\u001b[0m\u001b[0;34m\"storage_options\"\u001b[0m\u001b[0;34m,\u001b[0m \u001b[0;32mNone\u001b[0m\u001b[0;34m)\u001b[0m\u001b[0;34m,\u001b[0m\u001b[0;34m\u001b[0m\u001b[0;34m\u001b[0m\u001b[0m\n\u001b[0;32m--> 229\u001b[0;31m             \u001b[0merrors\u001b[0m\u001b[0;34m=\u001b[0m\u001b[0mkwds\u001b[0m\u001b[0;34m.\u001b[0m\u001b[0mget\u001b[0m\u001b[0;34m(\u001b[0m\u001b[0;34m\"encoding_errors\"\u001b[0m\u001b[0;34m,\u001b[0m \u001b[0;34m\"strict\"\u001b[0m\u001b[0;34m)\u001b[0m\u001b[0;34m,\u001b[0m\u001b[0;34m\u001b[0m\u001b[0;34m\u001b[0m\u001b[0m\n\u001b[0m\u001b[1;32m    230\u001b[0m         )\n\u001b[1;32m    231\u001b[0m \u001b[0;34m\u001b[0m\u001b[0m\n",
            "\u001b[0;32m/usr/local/lib/python3.7/dist-packages/pandas/io/common.py\u001b[0m in \u001b[0;36mget_handle\u001b[0;34m(path_or_buf, mode, encoding, compression, memory_map, is_text, errors, storage_options)\u001b[0m\n\u001b[1;32m    705\u001b[0m                 \u001b[0mencoding\u001b[0m\u001b[0;34m=\u001b[0m\u001b[0mioargs\u001b[0m\u001b[0;34m.\u001b[0m\u001b[0mencoding\u001b[0m\u001b[0;34m,\u001b[0m\u001b[0;34m\u001b[0m\u001b[0;34m\u001b[0m\u001b[0m\n\u001b[1;32m    706\u001b[0m                 \u001b[0merrors\u001b[0m\u001b[0;34m=\u001b[0m\u001b[0merrors\u001b[0m\u001b[0;34m,\u001b[0m\u001b[0;34m\u001b[0m\u001b[0;34m\u001b[0m\u001b[0m\n\u001b[0;32m--> 707\u001b[0;31m                 \u001b[0mnewline\u001b[0m\u001b[0;34m=\u001b[0m\u001b[0;34m\"\"\u001b[0m\u001b[0;34m,\u001b[0m\u001b[0;34m\u001b[0m\u001b[0;34m\u001b[0m\u001b[0m\n\u001b[0m\u001b[1;32m    708\u001b[0m             )\n\u001b[1;32m    709\u001b[0m         \u001b[0;32melse\u001b[0m\u001b[0;34m:\u001b[0m\u001b[0;34m\u001b[0m\u001b[0;34m\u001b[0m\u001b[0m\n",
            "\u001b[0;31mFileNotFoundError\u001b[0m: [Errno 2] No such file or directory: './test.csv'"
          ]
        }
      ]
    },
    {
      "cell_type": "code",
      "source": [
        "test2=test.drop(['ID'],axis=1)"
      ],
      "metadata": {
        "id": "ktEe9C5Is0PD",
        "colab": {
          "base_uri": "https://localhost:8080/",
          "height": 172
        },
        "outputId": "5a764648-71d1-476a-9576-65d3a757bc93"
      },
      "execution_count": 57,
      "outputs": [
        {
          "output_type": "error",
          "ename": "NameError",
          "evalue": "ignored",
          "traceback": [
            "\u001b[0;31m---------------------------------------------------------------------------\u001b[0m",
            "\u001b[0;31mNameError\u001b[0m                                 Traceback (most recent call last)",
            "\u001b[0;32m<ipython-input-57-6700291a1ff1>\u001b[0m in \u001b[0;36m<module>\u001b[0;34m()\u001b[0m\n\u001b[0;32m----> 1\u001b[0;31m \u001b[0mtest2\u001b[0m\u001b[0;34m=\u001b[0m\u001b[0mtest\u001b[0m\u001b[0;34m.\u001b[0m\u001b[0mdrop\u001b[0m\u001b[0;34m(\u001b[0m\u001b[0;34m[\u001b[0m\u001b[0;34m'ID'\u001b[0m\u001b[0;34m]\u001b[0m\u001b[0;34m,\u001b[0m\u001b[0maxis\u001b[0m\u001b[0;34m=\u001b[0m\u001b[0;36m1\u001b[0m\u001b[0;34m)\u001b[0m\u001b[0;34m\u001b[0m\u001b[0;34m\u001b[0m\u001b[0m\n\u001b[0m",
            "\u001b[0;31mNameError\u001b[0m: name 'test' is not defined"
          ]
        }
      ]
    },
    {
      "cell_type": "code",
      "source": [
        "X_test1=pca.transform(test2)\n",
        "scaled_test_data1 = scaler.transform(X_test1)"
      ],
      "metadata": {
        "id": "INs6H_ILqLws",
        "colab": {
          "base_uri": "https://localhost:8080/",
          "height": 190
        },
        "outputId": "1ca9cd15-e7b5-449f-c387-f21fc2af911a"
      },
      "execution_count": 58,
      "outputs": [
        {
          "output_type": "error",
          "ename": "NameError",
          "evalue": "ignored",
          "traceback": [
            "\u001b[0;31m---------------------------------------------------------------------------\u001b[0m",
            "\u001b[0;31mNameError\u001b[0m                                 Traceback (most recent call last)",
            "\u001b[0;32m<ipython-input-58-dd24b8dfe94c>\u001b[0m in \u001b[0;36m<module>\u001b[0;34m()\u001b[0m\n\u001b[0;32m----> 1\u001b[0;31m \u001b[0mX_test1\u001b[0m\u001b[0;34m=\u001b[0m\u001b[0mpca\u001b[0m\u001b[0;34m.\u001b[0m\u001b[0mtransform\u001b[0m\u001b[0;34m(\u001b[0m\u001b[0mtest2\u001b[0m\u001b[0;34m)\u001b[0m\u001b[0;34m\u001b[0m\u001b[0;34m\u001b[0m\u001b[0m\n\u001b[0m\u001b[1;32m      2\u001b[0m \u001b[0mscaled_test_data1\u001b[0m \u001b[0;34m=\u001b[0m \u001b[0mscaler\u001b[0m\u001b[0;34m.\u001b[0m\u001b[0mtransform\u001b[0m\u001b[0;34m(\u001b[0m\u001b[0mX_test1\u001b[0m\u001b[0;34m)\u001b[0m\u001b[0;34m\u001b[0m\u001b[0;34m\u001b[0m\u001b[0m\n",
            "\u001b[0;31mNameError\u001b[0m: name 'test2' is not defined"
          ]
        }
      ]
    },
    {
      "cell_type": "code",
      "source": [
        "y_pred = np.argmax(model.predict(scaled_test_data1), axis=-1)\n",
        "y_pred=pd.DataFrame(y_pred)"
      ],
      "metadata": {
        "id": "DdJ4iRrcrbru",
        "colab": {
          "base_uri": "https://localhost:8080/",
          "height": 190
        },
        "outputId": "8c982523-ee3b-416a-e37b-cc3ef2402dce"
      },
      "execution_count": 59,
      "outputs": [
        {
          "output_type": "error",
          "ename": "NameError",
          "evalue": "ignored",
          "traceback": [
            "\u001b[0;31m---------------------------------------------------------------------------\u001b[0m",
            "\u001b[0;31mNameError\u001b[0m                                 Traceback (most recent call last)",
            "\u001b[0;32m<ipython-input-59-80ccd8c3b269>\u001b[0m in \u001b[0;36m<module>\u001b[0;34m()\u001b[0m\n\u001b[0;32m----> 1\u001b[0;31m \u001b[0my_pred\u001b[0m \u001b[0;34m=\u001b[0m \u001b[0mnp\u001b[0m\u001b[0;34m.\u001b[0m\u001b[0margmax\u001b[0m\u001b[0;34m(\u001b[0m\u001b[0mmodel\u001b[0m\u001b[0;34m.\u001b[0m\u001b[0mpredict\u001b[0m\u001b[0;34m(\u001b[0m\u001b[0mscaled_test_data1\u001b[0m\u001b[0;34m)\u001b[0m\u001b[0;34m,\u001b[0m \u001b[0maxis\u001b[0m\u001b[0;34m=\u001b[0m\u001b[0;34m-\u001b[0m\u001b[0;36m1\u001b[0m\u001b[0;34m)\u001b[0m\u001b[0;34m\u001b[0m\u001b[0;34m\u001b[0m\u001b[0m\n\u001b[0m\u001b[1;32m      2\u001b[0m \u001b[0my_pred\u001b[0m\u001b[0;34m=\u001b[0m\u001b[0mpd\u001b[0m\u001b[0;34m.\u001b[0m\u001b[0mDataFrame\u001b[0m\u001b[0;34m(\u001b[0m\u001b[0my_pred\u001b[0m\u001b[0;34m)\u001b[0m\u001b[0;34m\u001b[0m\u001b[0;34m\u001b[0m\u001b[0m\n",
            "\u001b[0;31mNameError\u001b[0m: name 'scaled_test_data1' is not defined"
          ]
        }
      ]
    },
    {
      "cell_type": "code",
      "source": [
        "y_pred"
      ],
      "metadata": {
        "colab": {
          "base_uri": "https://localhost:8080/",
          "height": 172
        },
        "id": "ZlBMIhBUtR27",
        "outputId": "39cc1b15-86fe-4f00-8e84-287b15366102"
      },
      "execution_count": 60,
      "outputs": [
        {
          "output_type": "error",
          "ename": "NameError",
          "evalue": "ignored",
          "traceback": [
            "\u001b[0;31m---------------------------------------------------------------------------\u001b[0m",
            "\u001b[0;31mNameError\u001b[0m                                 Traceback (most recent call last)",
            "\u001b[0;32m<ipython-input-60-3aaf935e6aec>\u001b[0m in \u001b[0;36m<module>\u001b[0;34m()\u001b[0m\n\u001b[0;32m----> 1\u001b[0;31m \u001b[0my_pred\u001b[0m\u001b[0;34m\u001b[0m\u001b[0;34m\u001b[0m\u001b[0m\n\u001b[0m",
            "\u001b[0;31mNameError\u001b[0m: name 'y_pred' is not defined"
          ]
        }
      ]
    },
    {
      "cell_type": "code",
      "source": [
        "y_pred=le.inverse_transform(y_pred)"
      ],
      "metadata": {
        "colab": {
          "base_uri": "https://localhost:8080/",
          "height": 172
        },
        "id": "4k804MyNtpb9",
        "outputId": "b12c86bb-cc8e-4d9f-d2b0-8999e283f66c"
      },
      "execution_count": 61,
      "outputs": [
        {
          "output_type": "error",
          "ename": "NameError",
          "evalue": "ignored",
          "traceback": [
            "\u001b[0;31m---------------------------------------------------------------------------\u001b[0m",
            "\u001b[0;31mNameError\u001b[0m                                 Traceback (most recent call last)",
            "\u001b[0;32m<ipython-input-61-d2fb9412be5e>\u001b[0m in \u001b[0;36m<module>\u001b[0;34m()\u001b[0m\n\u001b[0;32m----> 1\u001b[0;31m \u001b[0my_pred\u001b[0m\u001b[0;34m=\u001b[0m\u001b[0mle\u001b[0m\u001b[0;34m.\u001b[0m\u001b[0minverse_transform\u001b[0m\u001b[0;34m(\u001b[0m\u001b[0my_pred\u001b[0m\u001b[0;34m)\u001b[0m\u001b[0;34m\u001b[0m\u001b[0;34m\u001b[0m\u001b[0m\n\u001b[0m",
            "\u001b[0;31mNameError\u001b[0m: name 'y_pred' is not defined"
          ]
        }
      ]
    },
    {
      "cell_type": "code",
      "source": [
        "y_pred=pd.DataFrame(y_pred)"
      ],
      "metadata": {
        "id": "7MkWkKJmtyTp"
      },
      "execution_count": null,
      "outputs": []
    },
    {
      "cell_type": "code",
      "source": [
        "y_pred"
      ],
      "metadata": {
        "id": "MzccP9Rpt7ND"
      },
      "execution_count": null,
      "outputs": []
    },
    {
      "cell_type": "code",
      "source": [
        "df_final=pd.DataFrame(test['ID'])\n",
        "df_final=pd.concat([df_final,y_pred],axis=1)\n",
        "df_final.columns=['ID','y']\n",
        "df_final"
      ],
      "metadata": {
        "id": "y-LpTQgssCH0"
      },
      "execution_count": null,
      "outputs": []
    },
    {
      "cell_type": "code",
      "source": [
        "df_final.to_csv(\"df_nn_drp_out_pca8.csv\",index=False)"
      ],
      "metadata": {
        "id": "WQwe_8__tGyk"
      },
      "execution_count": null,
      "outputs": []
    },
    {
      "cell_type": "code",
      "source": [
        ""
      ],
      "metadata": {
        "id": "X_ZDEcRDuOmk"
      },
      "execution_count": null,
      "outputs": []
    }
  ]
}